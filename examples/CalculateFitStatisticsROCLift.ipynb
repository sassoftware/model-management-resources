{
 "cells": [
  {
   "cell_type": "markdown",
   "metadata": {
    "Collapsed": "false"
   },
   "source": [
    "Copyright © 2020, SAS Institute Inc., Cary, NC, USA.  All Rights Reserved.\n",
    "SPDX-License-Identifier: Apache-2.0"
   ]
  },
  {
   "cell_type": "markdown",
   "metadata": {
    "Collapsed": "false"
   },
   "source": [
    "### Calculate Fit Statistics, ROC, and Lift, and then Generate JSON Files\n",
    "This notebook provides a simple example for calculating the fit statistics, ROC, and lift for a Python model, and then generates the following JSON files, which are used for comparing models in SAS Model Manager:\n",
    "1. dmcas_fitstat.json\n",
    "2. dmcas_roc.json\n",
    "3. dmcas_lift.json\n",
    "\n",
    "This example uses a sample CSV data file, hmeqPrediction.csv, that has actual values for the target variable, BAD, as well as predicted values from a sklearn model. After reading in the data to a list of arrays, the notebook generates all three JSON files into a user-defined file directory."
   ]
  },
  {
   "cell_type": "code",
   "execution_count": null,
   "metadata": {
    "Collapsed": "false"
   },
   "outputs": [],
   "source": [
    "from pathlib import Path\n",
    "import pzmm\n",
    "import pandas as pd"
   ]
  },
  {
   "cell_type": "code",
   "execution_count": null,
   "metadata": {
    "Collapsed": "false"
   },
   "outputs": [],
   "source": [
    "targetName = 'BAD'\n",
    "targetValue = 1\n",
    "csvPath = Path.cwd() / 'Data/hmeqPrediction.csv'\n",
    "df = pd.read_csv(csvPath)"
   ]
  },
  {
   "cell_type": "code",
   "execution_count": null,
   "metadata": {
    "Collapsed": "false"
   },
   "outputs": [],
   "source": [
    "yTrainActual = df.yActual.to_list()\n",
    "yTrainPredict = df.yPredict.to_list()\n",
    "data = [(None, None),\n",
    "        (yTrainActual, yTrainPredict),\n",
    "        (None, None)]"
   ]
  },
  {
   "cell_type": "code",
   "execution_count": null,
   "metadata": {
    "Collapsed": "false"
   },
   "outputs": [],
   "source": [
    "JSONFiles = pzmm.JSONFiles()\n",
    "jsonPath = Path.cwd() / 'Model'\n",
    "JSONFiles.calculateFitStat(data, jsonPath)\n",
    "JSONFiles.generateROCStat(data, targetName, jsonPath)\n",
    "JSONFiles.generateLiftStat(data, targetName, targetValue, jsonPath)"
   ]
  }
 ],
 "metadata": {
  "kernelspec": {
   "display_name": "Python 3",
   "language": "python",
   "name": "python3"
  },
  "language_info": {
   "codemirror_mode": {
    "name": "ipython",
    "version": 3
   },
   "file_extension": ".py",
   "mimetype": "text/x-python",
   "name": "python",
   "nbconvert_exporter": "python",
   "pygments_lexer": "ipython3",
   "version": "3.7.5"
  }
 },
 "nbformat": 4,
 "nbformat_minor": 4
}
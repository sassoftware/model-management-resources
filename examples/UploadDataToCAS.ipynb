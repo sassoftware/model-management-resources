{
 "cells": [
  {
   "cell_type": "markdown",
   "metadata": {},
   "source": [
    "Copyright © 2020, SAS Institute Inc., Cary, NC, USA.  All Rights Reserved.\n",
    "SPDX-License-Identifier: Apache-2.0"
   ]
  },
  {
   "cell_type": "markdown",
   "metadata": {
    "Collapsed": "false"
   },
   "source": [
    "## Upload Data to SAS Cloud Analytic Services (CAS)\n",
    "The SAS Scripting Wrapper for Analytics Transfer (SWAT) package is the Python client to SAS Cloud Analytic Services (CAS). It allows users to execute CAS actions and process the results using Python. You can use the SAS SWAT package to upload local data to the CAS server. SWAT uses the `read_csv`, `read_table`, or `read_excel` functions to upload data. After confirming that the rows of data have been read accurately, save the data to a location accessible to SAS application users.\n",
    "\n",
    "For more information about the SAS SWAT package, see the [SAS Scripting Wrapper for Analytics Transfer (SWAT) GitHub](https://github.com/sassoftware/python-swat) repository."
   ]
  },
  {
   "cell_type": "code",
   "execution_count": null,
   "metadata": {
    "Collapsed": "false"
   },
   "outputs": [],
   "source": [
    "# Import Python packages.\n",
    "import getpass\n",
    "import swat"
   ]
  },
  {
   "cell_type": "code",
   "execution_count": null,
   "metadata": {
    "Collapsed": "false"
   },
   "outputs": [],
   "source": [
    "# Enter the host server name without the http or https protocol (for example: myserver.com) as well as the user name and password. \n",
    "host = input('Host server: ')\n",
    "username = input('User name: ')\n",
    "password = getpass.getpass('Password: ')"
   ]
  },
  {
   "cell_type": "markdown",
   "metadata": {
    "Collapsed": "false"
   },
   "source": [
    "Note: In order to successfully connect to CAS, port 5570 for the CAS host server must be open. If the port is not open, please contact your system administrator."
   ]
  },
  {
   "cell_type": "code",
   "execution_count": null,
   "metadata": {
    "Collapsed": "false"
   },
   "outputs": [],
   "source": [
    "conn = swat.CAS(host, 5570, username, password)"
   ]
  },
  {
   "cell_type": "code",
   "execution_count": null,
   "metadata": {
    "Collapsed": "false"
   },
   "outputs": [],
   "source": [
    "# Similar to the pandas module, you can use conn.read_csv, conn.read_table, or conn.read_excel.\n",
    "# In order to use the read_table option, you can add the 'sep' argument that indicates the delimiter.\n",
    "hmeqData = conn.read_csv('../samples/Data/hmeq.csv', casout={'name': 'hmeqData',\n",
    "                                             'replace': 'True',\n",
    "                                             'caslib': 'CASUSER'})"
   ]
  },
  {
   "cell_type": "code",
   "execution_count": null,
   "metadata": {
    "Collapsed": "false"
   },
   "outputs": [],
   "source": [
    "hmeqData.head()"
   ]
  },
  {
   "cell_type": "code",
   "execution_count": null,
   "metadata": {
    "Collapsed": "false"
   },
   "outputs": [],
   "source": [
    "conn.save(table={'name': 'hmeqData',\n",
    "                 'caslib': 'CASUSER'},\n",
    "          name='hmeqData',\n",
    "          caslib='Public',\n",
    "          replace=True)"
   ]
  },
  {
   "cell_type": "code",
   "execution_count": null,
   "metadata": {
    "Collapsed": "false"
   },
   "outputs": [],
   "source": []
  }
 ],
 "metadata": {
  "kernelspec": {
   "display_name": "Python 3",
   "language": "python",
   "name": "python3"
  },
  "language_info": {
   "codemirror_mode": {
    "name": "ipython",
    "version": 3
   },
   "file_extension": ".py",
   "mimetype": "text/x-python",
   "name": "python",
   "nbconvert_exporter": "python",
   "pygments_lexer": "ipython3",
   "version": "3.7.3"
  }
 },
 "nbformat": 4,
 "nbformat_minor": 4
}
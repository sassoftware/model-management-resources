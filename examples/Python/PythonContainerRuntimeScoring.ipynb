{
 "cells": [
  {
   "cell_type": "markdown",
   "id": "chinese-guarantee",
   "metadata": {},
   "source": [
    "Copyright (c) 2023, SAS Institute Inc., Cary, NC, USA. All Rights Reserved. SPDX-License-Identifier: Apache-2.0\n",
    "\n",
    "\n",
    "\n",
    "# Python Container Runtime Scoring\n",
    "*** \n",
    "[SAS Model Manager](https://www.sas.com/en_us/software/model-manager.html) can deploy Python models into a Python container. This container deployment has these benefits:\n",
    "* written in pure Python, to enable easy debugging and data handling\n",
    "* scalable, to meet traffic needs\n",
    "* portable, to allow movement between environments\n",
    "* standardized, to leverage common tooling\n",
    "* independently executable, to be used outside of SAS Viya\n",
    "\n",
    "This notebook walks you through leveraging a Python container for scoring. But first you must perform these steps:\n",
    "\n",
    "1. Use the SAS Viya CLI to configure a container publishing destination, such as a container registry in Docker, Amazon Web Services (AWS), Google Cloud Platform (GCP), or Azure. Examples of commands for creating each destination can be found [here](https://github.com/sassoftware/model-management-resources/tree/main/configuration/destinations).\n",
    "2. Publish a Python model to container publishing destination from SAS Model Manager. More information about publishing Python models can be found [here](https://documentation.sas.com/?cdcId=mdlmgrcdc&cdcVersion=default&docsetId=mdlmgrug&docsetTarget=n04i7s6bdu7ilgn1e350am3byuxx.htm#p1e2r8l1runn7tn1iz4sxcvtswj6).\n",
    "3. Pull the container from the container registry and run it. The following command can be used to pull and run the container locally using Docker on the specified port:\n",
    "   \n",
    "   `docker run -tid -p port-number:8080 image-id`\n",
    "    \n",
    "After the container is running, it can be accessed via the Rest API. The following code leverages the requests package in Python to interact with the container via the Rest API. Using Python, import the required packages. "
   ]
  },
  {
   "cell_type": "code",
   "execution_count": null,
   "id": "polyphonic-qualification",
   "metadata": {},
   "outputs": [],
   "source": [
    "import requests\n",
    "import json"
   ]
  },
  {
   "cell_type": "markdown",
   "id": "excess-geology",
   "metadata": {},
   "source": [
    "Specify the host and port number. Containers running locally can use *localhost*."
   ]
  },
  {
   "cell_type": "code",
   "execution_count": null,
   "id": "selected-slovenia",
   "metadata": {},
   "outputs": [],
   "source": [
    "host = input('Host: ')\n",
    "port = input('Port Number: ')"
   ]
  },
  {
   "cell_type": "markdown",
   "id": "dirty-renewal",
   "metadata": {},
   "source": [
    "Prepate your data. The Python container expects data in a CSV format. The following is an example of formatted data for a model using the [HMEQ data set](https://github.com/sassoftware/model-management-resources/blob/main/samples/Data/hmeq.csv). "
   ]
  },
  {
   "cell_type": "code",
   "execution_count": null,
   "id": "advanced-civilian",
   "metadata": {},
   "outputs": [],
   "source": [
    "csvData = \\\n",
    " '\"REASON\",\"JOB\",\"YOJ\",\"DEROG\",\"DELINQ\",\"CLAGE\",\"NINQ\",\"CLNO\",\"DEBTINC\",\"MORTDUE\",\"LOAN\",\"VALUE\"\\r' + \\\n",
    " '\"HomeImp\", \"Other\" , 3, 0, 2, 65.8,  1,  2, 50, 1000, 2000, 500000\\r' + \\\n",
    " '\"HomeImp\", \"Sales\" , 6, 0, 2, 32.5,  4,  4, 20, 10000, 20000, 40000\\r' + \\\n",
    " '\"HomeImp\", \"Office\", 5, 0, 2, 121.1, 2,  8, 13, 30000, 60000, 80000\\r' + \\\n",
    " '\"HomeImp\", \"Other\" , 2, 0, 2, 221.2, 6, 14, 10, 90000, 170000, 222003'\n",
    "\n",
    "multipart_form_data = {'file': csvData}"
   ]
  },
  {
   "cell_type": "markdown",
   "id": "written-impression",
   "metadata": {},
   "source": [
    "Start scoring using the container, by passing the data to the */executions* endpoint using a POST request. An execution ID will be returned. "
   ]
  },
  {
   "cell_type": "code",
   "execution_count": null,
   "id": "removable-survey",
   "metadata": {},
   "outputs": [],
   "source": [
    "url=  'http://' + host + ':' + port + '/executions'\n",
    "print('Scoring Endpoint: ' , url )\n",
    "r = requests.post(url, files=multipart_form_data)\n",
    "print(r.json()) \n",
    "executionId = r.json()['id']"
   ]
  },
  {
   "cell_type": "markdown",
   "id": "interested-ceiling",
   "metadata": {},
   "source": [
    "To return the results of the execution, use a GET request with the */query/execution-id-from-previous-call* endpoint. "
   ]
  },
  {
   "cell_type": "code",
   "execution_count": null,
   "id": "german-right",
   "metadata": {},
   "outputs": [],
   "source": [
    "url= 'http://' + host + ':' + port + '/query/'\n",
    "r1 = requests.get(url + executionId)\n",
    "print('\\nOutput:\\n', r1.text)"
   ]
  },
  {
   "cell_type": "markdown",
   "id": "removable-coast",
   "metadata": {},
   "source": [
    "You can also check the logs for the execution using a GET request with the */execution-id-from-previous-call/log* endpoint. "
   ]
  },
  {
   "cell_type": "code",
   "execution_count": null,
   "id": "accepted-czech",
   "metadata": {},
   "outputs": [],
   "source": [
    "r2 = requests.get(url + executionId + '/log')\n",
    "print('Log:', r2.text)"
   ]
  },
  {
   "cell_type": "markdown",
   "id": "southern-shopper",
   "metadata": {},
   "source": [
    "You can get all the container logs using the */system/log* endpoint."
   ]
  },
  {
   "cell_type": "code",
   "execution_count": null,
   "id": "distinct-orbit",
   "metadata": {},
   "outputs": [],
   "source": [
    "r3 = requests.get('http://' + host + ':' + port + '/system/log')\n",
    "print('Log2:', r3.text)"
   ]
  },
  {
   "cell_type": "markdown",
   "id": "hired-sense",
   "metadata": {},
   "source": [
    "***"
   ]
  }
 ],
 "metadata": {
  "kernelspec": {
   "display_name": "Python 3",
   "language": "python",
   "name": "python3"
  },
  "language_info": {
   "codemirror_mode": {
    "name": "ipython",
    "version": 3
   },
   "file_extension": ".py",
   "mimetype": "text/x-python",
   "name": "python",
   "nbconvert_exporter": "python",
   "pygments_lexer": "ipython3",
   "version": "3.9.0"
  }
 },
 "nbformat": 4,
 "nbformat_minor": 5
}

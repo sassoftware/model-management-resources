{
 "cells": [
  {
   "cell_type": "markdown",
   "metadata": {},
   "source": [
    "Copyright © 2020, SAS Institute Inc., Cary, NC, USA.  All Rights Reserved.\n",
    "SPDX-License-Identifier: Apache-2.0"
   ]
  },
  {
   "cell_type": "markdown",
   "metadata": {},
   "source": [
    "# Get the Number of Published Models\n",
    "\n",
    "This example returns the number of projects with published models and the total number of published models by destination type."
   ]
  },
  {
   "cell_type": "code",
   "execution_count": null,
   "metadata": {
    "collapsed": false,
    "jupyter": {
     "outputs_hidden": false
    }
   },
   "outputs": [],
   "source": [
    "import requests\n",
    "import os, json\n",
    "import pprint\n",
    "import getpass\n",
    "\n",
    "# Specify the URL for your host server\n",
    "hostport=\"http://myserver.com\""
   ]
  },
  {
   "cell_type": "code",
   "execution_count": null,
   "metadata": {
    "collapsed": false,
    "jupyter": {
     "outputs_hidden": false
    }
   },
   "outputs": [],
   "source": [
    "# Specify the user ID and password for a non-admin user.\n",
    "user=\"<userID>\"\n",
    "password=\"<password>\""
   ]
  },
  {
   "cell_type": "code",
   "execution_count": null,
   "metadata": {
    "collapsed": true,
    "jupyter": {
     "outputs_hidden": true
    }
   },
   "outputs": [],
   "source": [
    "# Specify the user ID and password for the administrator user.\n",
    "user=\"<admin_userID>\"\n",
    "password=\"<password>\""
   ]
  },
  {
   "cell_type": "code",
   "execution_count": null,
   "metadata": {
    "collapsed": false,
    "jupyter": {
     "outputs_hidden": false
    }
   },
   "outputs": [],
   "source": [
    "# Get authentication token.\n",
    "authUri=\"/SASLogon/oauth/token\"\n",
    "\n",
    "headersAuth={\n",
    "    \"accept\":\"application/json\",\n",
    "    \"content-type\":\"application/x-www-form-urlencoded\",\n",
    "    \"Authorization\":\"Basic c2FzLmVjOg==\"\n",
    "}\n",
    "authToken=\"\"\n",
    "user=\"\"\n",
    "password=\"\"\n",
    "notAuthed=True\n",
    "\n",
    "while notAuthed :\n",
    "    user = input(\"Enter user ID:\")\n",
    "    password = getpass.getpass('Enter password for user %s:' % user)\n",
    "    authBody='grant_type=password&username=' + user + '&password=' + password\n",
    "    authReturn = requests.post(hostport+authUri, data=authBody, headers=headersAuth)\n",
    "    print(authReturn)\n",
    "    if authReturn.status_code == requests.codes.ok :\n",
    "        authToken = authReturn.json()['access_token']\n",
    "        notAuthed = False\n",
    "    else :\n",
    "        print(\"Please enter the correct user ID and password.\")\n",
    "    \n",
    "password = \"\"\n",
    "#print(authToken)"
   ]
  },
  {
   "cell_type": "code",
   "execution_count": null,
   "metadata": {},
   "outputs": [],
   "source": [
    "headersGet = {\n",
    "    'Authorization': 'Bearer ' + authToken\n",
    "}"
   ]
  },
  {
   "cell_type": "code",
   "execution_count": null,
   "metadata": {
    "collapsed": false,
    "jupyter": {
     "outputs_hidden": false
    }
   },
   "outputs": [],
   "source": [
    "models = requests.get(hostport + \"/modelPublish/models\", headers=headersGet)\n",
    "print(models)\n",
    "print(models.json()[\"count\"])\n",
    "#pprint.pprint(models.json())"
   ]
  },
  {
   "cell_type": "code",
   "execution_count": null,
   "metadata": {},
   "outputs": [],
   "source": [
    "# Retrieves the unique model count.\n",
    "def getModelCount(models) :\n",
    "    #create a dictionary\n",
    "    uniqueModel = {}\n",
    "    items = models.json()[\"items\"]\n",
    "    for item in items :\n",
    "        #print(item['modelId'])\n",
    "        # only count completed publish model\n",
    "        if item['state'] == 'completed':\n",
    "            if item['modelId'] not in uniqueModel :\n",
    "                #print(item['modelId'] + \"exist\")\n",
    "                uniqueModel[item['modelId']] = item['publishName']\n",
    "    return len(uniqueModel)\n",
    "\n",
    "def getCompletedModelCount(models) :\n",
    "    #create a dictionary\n",
    "    completedModel = {}\n",
    "    items = models.json()[\"items\"]\n",
    "    for item in items :\n",
    "        # Print(item['modelId'])\n",
    "        # Only counts completed publish models\n",
    "        if item['state'] == 'completed':\n",
    "            completedModel[item['id']] = item['publishName']\n",
    "    return len(completedModel)"
   ]
  },
  {
   "cell_type": "code",
   "execution_count": null,
   "metadata": {},
   "outputs": [],
   "source": [
    "# Prints the unique published model count.\n",
    "modelCount = getModelCount(models)\n",
    "print(modelCount)\n",
    "\n",
    "# Print completed published models count.\n",
    "modelCount = getCompletedModelCount(models)\n",
    "print(modelCount)"
   ]
  },
  {
   "cell_type": "code",
   "execution_count": null,
   "metadata": {},
   "outputs": [],
   "source": [
    "def getCompletedProjectModelCount(models) :\n",
    "    # Creates a dictionary\n",
    "    completedModel = {}\n",
    "    items = models.json()[\"items\"]\n",
    "    for item in items :\n",
    "        # Pprint(item['modelId'])\n",
    "        # Only counts completed publish models\n",
    "        if item['state'] == 'completed':\n",
    "            # Check if the projectId field is in the item or not\n",
    "            if 'projectId' in item :\n",
    "                if item['projectId'] not in completedModel :\n",
    "                    completedModel[item['projectId']] = item['publishName']\n",
    "            else :\n",
    "                if item['modelId'] not in completedModel :\n",
    "                    completedModel[item['modelId']] = item['publishName'] \n",
    "                    \n",
    "    return len(completedModel)"
   ]
  },
  {
   "cell_type": "code",
   "execution_count": null,
   "metadata": {},
   "outputs": [],
   "source": [
    "# Prints completed published models count\n",
    "modelCount = getCompletedProjectModelCount(models)\n",
    "print(modelCount)"
   ]
  },
  {
   "cell_type": "markdown",
   "metadata": {},
   "source": [
    "## Get Models by Publish Type"
   ]
  },
  {
   "cell_type": "code",
   "execution_count": null,
   "metadata": {
    "collapsed": false,
    "jupyter": {
     "outputs_hidden": false
    }
   },
   "outputs": [],
   "source": [
    "# Here you can use the publishType or type. There are four types that can be specified.\n",
    "filter=\"?filter=eq(type, \\\"mas\\\")\"\n",
    "#filter=\"?filter=eq(type, \\\"ep\\\")\"\n",
    "#filter=\"?filter=eq(type, \\\"casModel\\\")\"\n",
    "#filter=\"?filter=eq(type, \\\"container\\\")\"\n",
    "models = requests.get(hostport + \"/modelPublish/models\"+filter, headers=headersGet)\n",
    "print(models)\n",
    "#print(models.json())\n",
    "print(models.json()[\"count\"])\n",
    "#pprint.pprint(models.json())\n"
   ]
  },
  {
   "cell_type": "markdown",
   "metadata": {},
   "source": [
    "## Get Models by Destination Name"
   ]
  },
  {
   "cell_type": "code",
   "execution_count": null,
   "metadata": {
    "collapsed": false,
    "jupyter": {
     "outputs_hidden": false
    }
   },
   "outputs": [],
   "source": [
    "# The destinationName parameter is same as the targetServerName parameter.\n",
    "filter=\"?filter=eq(targetServerName, \\\"maslocal\\\")\"\n",
    "#filter=\"?filter=eq(targetServerName, \\\"casWB\\\")\"\n",
    "models = requests.get(hostport + \"/modelPublish/models\"+filter, headers=headersGet)\n",
    "print(models)\n",
    "#print(models.json())\n",
    "print(models.json()[\"count\"])\n",
    "#pprint.pprint(models.json())"
   ]
  },
  {
   "cell_type": "markdown",
   "metadata": {},
   "source": [
    "## Get Models by creationTimeStamp"
   ]
  },
  {
   "cell_type": "code",
   "execution_count": null,
   "metadata": {
    "collapsed": false,
    "jupyter": {
     "outputs_hidden": false
    }
   },
   "outputs": [],
   "source": [
    "#filter=\"?filter=and(eq(destinationName, maslocal),gt(creationTimeStamp, 2019-12-05T00:00:00.000Z))\"\n",
    "filter=\"?filter=lt(creationTimeStamp, \\\"2019-12-17\\\")\"\n",
    "models = requests.get(hostport + \"/modelPublish/models\"+filter, headers=headersGet)\n",
    "print(models)\n",
    "#print(models.json())\n",
    "print(models.json()[\"count\"])\n",
    "#pprint.pprint(models.json())"
   ]
  },
  {
   "cell_type": "code",
   "execution_count": null,
   "metadata": {
    "collapsed": false,
    "jupyter": {
     "outputs_hidden": false
    }
   },
   "outputs": [],
   "source": [
    "filter=\"?filter=gt(creationTimeStamp, \\\"2019-11-17\\\")\"  #recent a month\n",
    "#filter=\"?filter=gt(creationTimeStamp, \\\"2019-06-17\\\")\"  #recent 6 month\n",
    "#filter=\"?filter=lt(creationTimeStamp, \\\"2018-12-17\\\")\"  #recent a year\n",
    "models = requests.get(hostport + \"/modelPublish/models\"+filter, headers=headersGet)\n",
    "print(models)\n",
    "#print(models.json())\n",
    "print(models.json()[\"count\"])\n",
    "#pprint.pprint(models.json())"
   ]
  },
  {
   "cell_type": "code",
   "execution_count": null,
   "metadata": {
    "collapsed": false,
    "jupyter": {
     "outputs_hidden": false
    }
   },
   "outputs": [],
   "source": [
    "# find model by modelId\n",
    "modelId=\"bf70131d-35c3-47ce-80e3-8487976d78ec\"\n",
    "filter=\"?filter=eq(modelId,\\\"\"+ modelId + \"\\\")\"\n",
    "#filter=\"?filter=eq(modelUUID,\\\"\"+ modelId + \"\\\")\"\n",
    "\n",
    "models = requests.get(hostport + \"/modelPublish/models\"+filter, headers=headersGet)\n",
    "print(models)\n",
    "pprint.pprint(models.json())\n",
    "print(models.json()[\"count\"])"
   ]
  },
  {
   "cell_type": "code",
   "execution_count": null,
   "metadata": {
    "collapsed": false,
    "jupyter": {
     "outputs_hidden": false
    }
   },
   "outputs": [],
   "source": [
    "# find model by sourceUri\n",
    "sourceUri=\"/modelRepository/models/bf70131d-35c3-47ce-80e3-8487976d78ec\"\n",
    "filter=\"?filter=eq(sourceUri,\\\"\"+ sourceUri + \"\\\")\"\n",
    "\n",
    "models = requests.get(hostport + \"/modelPublish/models\"+filter, headers=headersGet)\n",
    "print(models)\n",
    "pprint.pprint(models.json())\n",
    "print(models.json()[\"count\"])"
   ]
  },
  {
   "cell_type": "markdown",
   "metadata": {},
   "source": [
    "## Counts Models by Destination Type"
   ]
  },
  {
   "cell_type": "code",
   "execution_count": null,
   "metadata": {
    "collapsed": false,
    "jupyter": {
     "outputs_hidden": false
    }
   },
   "outputs": [],
   "source": [
    "casModelCount=0\n",
    "masModelCount=0\n",
    "\n",
    "for i, model in enumerate(models.json()[\"items\"]):\n",
    "    if \"cas\"== model[\"destination\"][\"destinationType\"]:\n",
    "        casModelCount = casModelCount + 1\n",
    "    elif \"microAnalyticService\" == model[\"destination\"][\"destinationType\"] :\n",
    "        masModelCount = masModelCount + 1\n",
    "        \n",
    "#print(casModelCount)\n",
    "#print(masModelCount)"
   ]
  },
  {
   "cell_type": "markdown",
   "metadata": {},
   "source": [
    "## Display Models in a Table"
   ]
  },
  {
   "cell_type": "code",
   "execution_count": null,
   "metadata": {
    "collapsed": false,
    "jupyter": {
     "outputs_hidden": false
    }
   },
   "outputs": [],
   "source": [
    "import pandas as pd\n",
    "\n",
    "# intialise data of lists.\n",
    "data = {'Destination Type':['CAS', 'MAS'],\n",
    "        'Model Count':[casModelCount, masModelCount]}\n",
    "\n",
    "# Create DataFrame\n",
    "df = pd.DataFrame(data)\n",
    " \n",
    "# Print the output.\n",
    "print(df)"
   ]
  },
  {
   "cell_type": "code",
   "execution_count": null,
   "metadata": {
    "collapsed": false,
    "jupyter": {
     "outputs_hidden": false
    }
   },
   "outputs": [],
   "source": [
    "import datetime\n",
    "\n",
    "cDate = datetime.datetime.now()\n",
    "\n",
    "cyear = cDate.year\n",
    "cmonth = cDate.month\n",
    "cday = cDate.day\n",
    "\n",
    "year6 = cyear\n",
    "month6 = cmonth - 6\n",
    "day6 = cday\n",
    "\n",
    "if month6 <= 0 : \n",
    "    month6 = 12 + month6\n",
    "    year6 = year6 -1\n",
    "    \n",
    "print(year6)\n",
    "print(month6)\n",
    "print(day6)\n",
    "\n"
   ]
  },
  {
   "cell_type": "code",
   "execution_count": null,
   "metadata": {
    "collapsed": false,
    "jupyter": {
     "outputs_hidden": false
    }
   },
   "outputs": [],
   "source": []
  },
  {
   "cell_type": "code",
   "execution_count": null,
   "metadata": {
    "collapsed": false,
    "jupyter": {
     "outputs_hidden": false
    }
   },
   "outputs": [],
   "source": []
  },
  {
   "cell_type": "code",
   "execution_count": null,
   "metadata": {
    "collapsed": true,
    "jupyter": {
     "outputs_hidden": true
    }
   },
   "outputs": [],
   "source": []
  },
  {
   "cell_type": "code",
   "execution_count": null,
   "metadata": {
    "collapsed": false,
    "jupyter": {
     "outputs_hidden": false
    }
   },
   "outputs": [],
   "source": []
  }
 ],
 "metadata": {
  "kernelspec": {
   "display_name": "Python 3",
   "language": "python",
   "name": "python3"
  },
  "language_info": {
   "codemirror_mode": {
    "name": "ipython",
    "version": 3
   },
   "file_extension": ".py",
   "mimetype": "text/x-python",
   "name": "python",
   "nbconvert_exporter": "python",
   "pygments_lexer": "ipython3",
   "version": "3.7.3"
  }
 },
 "nbformat": 4,
 "nbformat_minor": 4
}

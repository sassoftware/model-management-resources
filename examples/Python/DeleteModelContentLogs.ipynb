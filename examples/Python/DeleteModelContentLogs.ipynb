{
 "cells": [
  {
   "cell_type": "markdown",
   "metadata": {},
   "source": [
    "Copyright © 2020, SAS Institute Inc., Cary, NC, USA.  All Rights Reserved.\n",
    "SPDX-License-Identifier: Apache-2.0"
   ]
  },
  {
   "cell_type": "markdown",
   "metadata": {},
   "source": [
    "# Delete Model Content Logs"
   ]
  },
  {
   "cell_type": "markdown",
   "metadata": {},
   "source": [
    "When you publish a model to a destination, there are log and SAS code files that are generated within the contents of a model object. \n",
    "This example enables you to delete the files for a specific model, all models within a project, or all models within the common model repository. The model content is only deleted for the following file types: ScoreCodeGen{}.sas or ScoreCodeGen{}.log. The most recent revision of each file type is not deleted."
   ]
  },
  {
   "cell_type": "code",
   "execution_count": null,
   "metadata": {},
   "outputs": [],
   "source": [
    "import requests\n",
    "import json\n",
    "import getpass\n",
    "from tqdm import tqdm"
   ]
  },
  {
   "cell_type": "markdown",
   "metadata": {},
   "source": [
    "### Generate Authorization Token\n",
    "Specify values for the `host`, `username`, and `password` parameters, and then pass an API POST request to return an authentication token. When successful the authentication response should return an HTTP status code of 200."
   ]
  },
  {
   "cell_type": "code",
   "execution_count": null,
   "metadata": {},
   "outputs": [],
   "source": [
    "host = 'http://myserver.com'\n",
    "username = 'myUsername'\n",
    "password = 'myPassword'\n",
    "#password = getpass.getpass()"
   ]
  },
  {
   "cell_type": "code",
   "execution_count": null,
   "metadata": {},
   "outputs": [],
   "source": [
    "authURI = '/SASLogon/oauth/token'\n",
    "\n",
    "headersAuth = {\n",
    "    \"accept\":\"application/json\",\n",
    "    \"content-type\":\"application/x-www-form-urlencoded\",\n",
    "    \"Authorization\":\"Basic c2FzLmVjOg==\"\n",
    "}\n",
    "\n",
    "authBody = f'grant_type=password&username={username}&password={password}'\n",
    "authResponse = requests.post(host + authURI, data=authBody, headers=headersAuth)\n",
    "print(authResponse.status_code)"
   ]
  },
  {
   "cell_type": "code",
   "execution_count": null,
   "metadata": {},
   "outputs": [],
   "source": [
    "authToken = authResponse.json()['access_token']\n",
    "print(authToken)"
   ]
  },
  {
   "cell_type": "code",
   "execution_count": null,
   "metadata": {},
   "outputs": [],
   "source": [
    "headers = {'Authorization': f'Bearer {authToken}'}\n",
    "url = f\"{host}/modelRepository/repositories?filter=eq(name,'Public')\"\n",
    "repoList = requests.get(url, headers=headers)\n",
    "repoJSON = repoList.json()['items'][0]\n",
    "repoID = repoJSON['id']\n",
    "print(f'Repository ID: {repoID}')\n",
    "repoFID = repoJSON['folderId']\n",
    "print(f'Repository Folder ID: {repoFID}')"
   ]
  },
  {
   "cell_type": "markdown",
   "metadata": {},
   "source": [
    "### API Functions"
   ]
  },
  {
   "cell_type": "code",
   "execution_count": null,
   "metadata": {},
   "outputs": [],
   "source": [
    "def inputWhileLoop(inputPrompt, validInputList):\n",
    "    validInput = []\n",
    "    inputAttempts = 0\n",
    "    # Three input attempts are allowed before an exception is raised to close the while loop.\n",
    "    while validInput not in validInputList:\n",
    "        try:\n",
    "            validInput = int(input(inputPrompt))\n",
    "        except ValueError:\n",
    "            validInput = []\n",
    "        if validInput not in validInputList:\n",
    "            inputAttempts += 1\n",
    "            if inputAttempts >= 3:\n",
    "                raise ValueError('Too many invalid input attempts have been made.')\n",
    "            else:\n",
    "                print('Please specify a valid option from the list.')\n",
    "    return validInput - 1"
   ]
  },
  {
   "cell_type": "code",
   "execution_count": null,
   "metadata": {},
   "outputs": [],
   "source": [
    "def findProjectUUID(host, authToken):\n",
    "    isUUID = inputWhileLoop('Identify project by:\\n1. Name \\n2. UUID\\n', [1, 2])\n",
    "    if isUUID:\n",
    "        projectUUID = input('Enter project UUID: ')\n",
    "        return [projectUUID]\n",
    "    else:\n",
    "        projectName = input('Enter project name: ')\n",
    "        headers = {\n",
    "            'Origin': host,\n",
    "            'Authorization': f'Bearer {authToken}'}\n",
    "        requestUrl = f'{host}/modelRepository/projects?limit=100000'\n",
    "        projectGET = requests.get(requestUrl, headers=headers)\n",
    "        \n",
    "        projectUUID = [x['id'] for x in projectGET.json()['items'] if x['name']==projectName]\n",
    "        if not projectUUID:\n",
    "            raise FileNotFoundError(f'A project with the name \"{projectName}\" could not be found.')\n",
    "        if type(projectUUID) is list:\n",
    "            return projectUUID\n",
    "        else:\n",
    "            return [projectUUID]"
   ]
  },
  {
   "cell_type": "code",
   "execution_count": null,
   "metadata": {},
   "outputs": [],
   "source": [
    "def findModelUUID(host, authToken, projectUUID=None):\n",
    "    isUUID = inputWhileLoop('Identify model by:\\n1. Name \\n2. UUID\\n', [1, 2])\n",
    "    modelUUID = []\n",
    "    if isUUID:\n",
    "        modelUUID = input('Enter model UUID: ')\n",
    "        return [modelUUID]\n",
    "    else:\n",
    "        modelName = input('Enter model name: ')\n",
    "        headers = {\n",
    "            'Origin': host,\n",
    "            'Authorization': f'Bearer {authToken}'}\n",
    "        requestUrl = f'{host}/modelRepository/models?limit=100000'\n",
    "        modelGET = requests.get(requestUrl, headers=headers)\n",
    "        \n",
    "        for item in modelGET.json()['items']:\n",
    "            try:\n",
    "                if (item['projectId']==projectUUID and item['name']==modelName):\n",
    "                    modelUUID.append(item['id'])\n",
    "            except KeyError:\n",
    "                if projectUUID is None and item['name']==modelName:\n",
    "                    modelUUID.append(item['id'])\n",
    "\n",
    "        if not modelUUID:\n",
    "            raise FileNotFoundError(f'A model with the name \"{modelName}\" could not be found.')\n",
    "        if type(modelUUID) is list:\n",
    "            return modelUUID\n",
    "        else:\n",
    "            return [modelUUID]"
   ]
  },
  {
   "cell_type": "code",
   "execution_count": null,
   "metadata": {},
   "outputs": [],
   "source": [
    "def getModelContents(host, authToken, modelUUID):\n",
    "    headers = {\n",
    "        'Origin': host,\n",
    "        'Authorization': f'Bearer {authToken}'}\n",
    "    requestUrl = f'{host}/modelRepository/models/{modelUUID}/contents?limit=100000'\n",
    "    contentsGET = requests.get(requestUrl, headers=headers)\n",
    "    contentsNamesModified = [(x['id'], x['modifiedTimeStamp']) for x in contentsGET.json()['items'] if x['name'].startswith('ScoreCodeGen')]\n",
    "    def sortTime(value):\n",
    "        return value[1]\n",
    "    contentsNamesModified.sort(key=sortTime, reverse=True)\n",
    "    contentsUUID = [x[0] for x in contentsNamesModified[2:]]\n",
    "    if type(contentsUUID) is list:\n",
    "        return contentsUUID\n",
    "    else:\n",
    "        return [contentsUUID]"
   ]
  },
  {
   "cell_type": "code",
   "execution_count": null,
   "metadata": {},
   "outputs": [],
   "source": [
    "def deleteModelContents(host, authToken, modelUUID, uuid):\n",
    "    headers = {\n",
    "        'Origin': host,\n",
    "        'Authorization': f'Bearer {authToken}'}\n",
    "    requestUrl = f'{host}/modelRepository/models/{modelUUID}/contents/{uuid}'\n",
    "    contentDELETE = requests.delete(requestUrl, headers=headers)\n",
    "    return contentDELETE"
   ]
  },
  {
   "cell_type": "markdown",
   "metadata": {},
   "source": [
    "### Specify Content to Delete\n",
    "Specify whether to delete generated model logs and SAS files from a model, from all models within a project, or all models within the common model repository. The model content is only deleted for the following file types: ScoreCodeGen{}.sas or ScoreCodeGen{}.log. The most recent revision of each file type is not deleted."
   ]
  },
  {
   "cell_type": "code",
   "execution_count": null,
   "metadata": {},
   "outputs": [],
   "source": [
    "removeType = inputWhileLoop('Specify one of the following options from which to delete the generated model logs and SAS code files: \\n1. Model \\n2. Project \\n3. Common Model Repository\\n',\n",
    "                            [1, 2, 3])\n",
    "# 1. Model\n",
    "# Delete contents from a model using a single model UUID or a single model name.\n",
    "# If a single model name, search for all versions and project locations.\n",
    "deleted = 0\n",
    "if removeType == 0:\n",
    "    projectUUID = findProjectUUID(host, authToken)\n",
    "    # if multiple project versions exist, check for the model name in each\n",
    "    for pUUID in projectUUID:\n",
    "        modelUUID = findModelUUID(host, authToken, pUUID)\n",
    "        # if multiple model versions exist, check for/delete contents in each\n",
    "        for mUUID in modelUUID:\n",
    "            contentsUUID = getModelContents(host, authToken, mUUID)\n",
    "            for cUUID in contentsUUID:\n",
    "                code = deleteModelContents(host, authToken, mUUID, cUUID)\n",
    "                if code.status_code == 204:\n",
    "                    deleted += 1\n",
    "    print(f'Deleted {str(deleted)} old files.')\n",
    "\n",
    "# 2. Project\n",
    "# Delete contents from models using a single project UUID or a single project name.\n",
    "# If for a single project name, search through all versions of project.\n",
    "elif removeType == 1:\n",
    "    projectUUID = findProjectUUID(host, authToken)\n",
    "    # if multiple project versions exist, remove content from models of each\n",
    "    for pUUID in projectUUID:\n",
    "        headers = {\n",
    "            'Origin': host,\n",
    "            'Authorization': f'Bearer {authToken}'}\n",
    "        requestUrl = f'{host}/modelRepository/projects/{pUUID}/models?limit=100000'\n",
    "        modelListGET = requests.get(requestUrl, headers=headers)\n",
    "        modelListUUID = [x['id'] for x in modelListGET.json()['items']]\n",
    "        for mUUID in modelListUUID:\n",
    "            contentsUUID = getModelContents(host, authToken, mUUID)\n",
    "            for cUUID in contentsUUID:\n",
    "                code = deleteModelContents(host, authToken, mUUID, cUUID)\n",
    "                if code.status_code == 204:\n",
    "                    deleted += 1\n",
    "    print(f'Deleted {str(deleted)} old files.')\n",
    "    \n",
    "# 3. All Content\n",
    "# Delete content from all models in the common model repository.\n",
    "elif removeType == 2:\n",
    "    headers = {\n",
    "        'Origin': host,\n",
    "        'Authorization': f'Bearer {authToken}'}\n",
    "    requestUrl = f'{host}/modelRepository/models?limit=100000'\n",
    "    modelListGET = requests.get(requestUrl, headers=headers)\n",
    "    modelListUUID = [x['id'] for x in modelListGET.json()['items']]\n",
    "    for mUUID in tqdm(modelListUUID):\n",
    "        contentsUUID = getModelContents(host, authToken, mUUID)\n",
    "        for cUUID in contentsUUID:\n",
    "            code = deleteModelContents(host, authToken, mUUID, cUUID)\n",
    "            if code.status_code == 204:\n",
    "                deleted += 1\n",
    "    print(f'Deleted {str(deleted)} old files.')"
   ]
  },
  {
   "cell_type": "code",
   "execution_count": null,
   "metadata": {},
   "outputs": [],
   "source": []
  }
 ],
 "metadata": {
  "kernelspec": {
   "display_name": "Python 3",
   "language": "python",
   "name": "python3"
  },
  "language_info": {
   "codemirror_mode": {
    "name": "ipython",
    "version": 3
   },
   "file_extension": ".py",
   "mimetype": "text/x-python",
   "name": "python",
   "nbconvert_exporter": "python",
   "pygments_lexer": "ipython3",
   "version": "3.7.3"
  }
 },
 "nbformat": 4,
 "nbformat_minor": 4
}

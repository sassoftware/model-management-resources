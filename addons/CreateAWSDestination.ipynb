{
 "cells": [
  {
   "cell_type": "markdown",
   "metadata": {},
   "source": [
    "Copyright © 2020, SAS Institute Inc., Cary, NC, USA.  All Rights Reserved.\n",
    "SPDX-License-Identifier: Apache-2.0"
   ]
  },
  {
   "cell_type": "markdown",
   "metadata": {
    "Collapsed": "false"
   },
   "source": [
    "# Create AWS Destinations with Group Credentials\n",
    "\n",
    "In order to create an Amazon Web Services (AWS) destination with group credentials setup, the following steps must be completed:\n",
    "\n",
    "1. Find a valid domain with AWS credentials.\n",
    "2. Create credentials for a specified user and group.\n",
    "3. Submit an API post to create an AWS destination. The delete destination API is also included."
   ]
  },
  {
   "cell_type": "markdown",
   "metadata": {
    "Collapsed": "false"
   },
   "source": [
    "Import packages for API calls, JSON handling, safe password handling, access key encryption, and printing readable JSON files. Set the SAS log in host."
   ]
  },
  {
   "cell_type": "code",
   "execution_count": null,
   "metadata": {
    "Collapsed": "false"
   },
   "outputs": [],
   "source": [
    "import requests\n",
    "import json\n",
    "import getpass\n",
    "import base64\n",
    "import pprint\n",
    "\n",
    "host = \"http://myserver.com\""
   ]
  },
  {
   "cell_type": "markdown",
   "metadata": {
    "Collapsed": "false"
   },
   "source": [
    "### Administrator and AWS Login\n",
    "Authenticate a token for logging into the host and for accessing an AWS domain."
   ]
  },
  {
   "cell_type": "code",
   "execution_count": null,
   "metadata": {
    "Collapsed": "false"
   },
   "outputs": [],
   "source": [
    "authURI = \"/SASLogon/oauth/token\"\n",
    "\n",
    "headersAuth = {\n",
    "    'accept': \"application/json\",\n",
    "    'content-type': \"application/x-www-form-urlencoded\",\n",
    "    'Authorization': \"Basic c2FzLmVjOg==\"}\n",
    "authToken = ''\n",
    "username = ''\n",
    "password = ''\n",
    "notAuthenticated = True\n",
    "\n",
    "while notAuthenticated:\n",
    "    username = input(\"Enter adminstrator user name: \")\n",
    "    password = getpass.getpass(f\"Enter password for user {username}: \")\n",
    "    authBody = f\"grant_type=password&username={username}&password={password}\"\n",
    "    authPost = requests.post(host + authURI,\n",
    "                             data=authBody,\n",
    "                             headers=headersAuth)\n",
    "    if authPost.status_code == requests.codes.ok:\n",
    "        authToken = authPost.json()['access_token']\n",
    "        notAuthenticated = False\n",
    "    else:\n",
    "        print(\"Please enter a valid user name and password combination.\")\n",
    "\n",
    "password = ''"
   ]
  },
  {
   "cell_type": "markdown",
   "metadata": {
    "Collapsed": "false"
   },
   "source": [
    "In order to successfully create an AWSkey domain, a username with access to retrieve the domain is required."
   ]
  },
  {
   "cell_type": "code",
   "execution_count": null,
   "metadata": {
    "Collapsed": "false"
   },
   "outputs": [],
   "source": [
    "domainUsername = input(\"Enter a user name with access to the domain information: \")\n",
    "awsKeyID = input(\"Enter AWS key ID: \")\n",
    "awsSecretKey = getpass.getpass(\"Enter AWS secret key: \")"
   ]
  },
  {
   "cell_type": "markdown",
   "metadata": {
    "Collapsed": "false"
   },
   "source": [
    "### Domain Creation and Selection\n",
    "Either create a new AWS domain or choose one from an existing list."
   ]
  },
  {
   "cell_type": "code",
   "execution_count": null,
   "metadata": {
    "Collapsed": "false"
   },
   "outputs": [],
   "source": [
    "headersGet = {\n",
    "    'Authorization': 'Bearer ' + authToken}\n",
    "headersDomainPut = {\n",
    "    'Content-Type': \"application/vnd.sas.credential.domain+json\",\n",
    "    'Accept': \"application/vnd.sas.credential.domain+json\",\n",
    "    'Authorization': 'Bearer ' + authToken}\n",
    "headersCredentialPut = {\n",
    "    'Content-Type': \"application/vnd.sas.credential+json\",\n",
    "    'Accept': \"application/vnd.sas.credential+json\",\n",
    "    'Authorization': 'Bearer ' + authToken}"
   ]
  },
  {
   "cell_type": "markdown",
   "metadata": {
    "Collapsed": "false"
   },
   "source": [
    "#### Create a New Domain"
   ]
  },
  {
   "cell_type": "code",
   "execution_count": null,
   "metadata": {
    "Collapsed": "false"
   },
   "outputs": [],
   "source": [
    "domainName = input(\"Enter new domain name: \")\n",
    "domainURL = host + \"/credentials/domains/\"\n",
    "domainAttributes = {\n",
    "    'id': domainName,\n",
    "    'type': 'password',\n",
    "    'description': \"AWS credentials\"}\n",
    "\n",
    "domainPut = requests.put(domainURL + domainName,\n",
    "                         data=json.dumps(domainAttributes),\n",
    "                         headers = headersDomainPut)\n",
    "print(domainPut)"
   ]
  },
  {
   "cell_type": "markdown",
   "metadata": {
    "Collapsed": "false"
   },
   "source": [
    "#### Get a List of Domains and Select One"
   ]
  },
  {
   "cell_type": "code",
   "execution_count": null,
   "metadata": {
    "Collapsed": "false"
   },
   "outputs": [],
   "source": [
    "domainURL = host + \"/credentials/domains/\"\n",
    "domain1000URLs = domainURL + \"?limit=1000\"\n",
    "domainGet = requests.get(domain1000URLs, headers=headersGet)\n",
    "\n",
    "for i, domain in enumerate(domainGet.json()['items']):\n",
    "    print(f\"{i}. Domain ID: {domain['id']}, {domain['type']}\")\n",
    "\n",
    "validDomain = False\n",
    "while not validDomain:\n",
    "    domainIndex = input(\"Select a domain number from the list: \")\n",
    "    try:\n",
    "        domainID = domainGet.json()['items'][int(domainIndex)]['id']\n",
    "        print(domainID)\n",
    "        domainName = domainID\n",
    "        validDomain = True\n",
    "    except:\n",
    "        print(\"Please select a valid domain number from the list.\")"
   ]
  },
  {
   "cell_type": "markdown",
   "metadata": {
    "Collapsed": "false"
   },
   "source": [
    "### Create User and Group Credentials\n",
    "User credentials use the identityType of 'user', which is the same as the SAS Open Model Manager user name.\n",
    "\n",
    "In order to create an AWSKey domain, a group ID is required to retrieve the domain information."
   ]
  },
  {
   "cell_type": "code",
   "execution_count": null,
   "metadata": {
    "Collapsed": "false"
   },
   "outputs": [],
   "source": [
    "credentialURL = domainURL + domainName + '/users/' + domainUsername\n",
    "print(credentialURL)\n",
    "\n",
    "encodedAccessKey = str(base64.b64encode(awsSecretKey.encode('utf-8')), 'utf-8')\n",
    "\n",
    "credentialAttributes = {\n",
    "    'domainId': domainName,\n",
    "    'identityType': 'user',\n",
    "    'identityId': domainUsername,\n",
    "    'domainType': 'password',\n",
    "    'properties': {'userId': awsKeyID},\n",
    "    'secrets': {'password': encodedAccessKey}}\n",
    "\n",
    "credentialPut = requests.put(credentialURL,\n",
    "                             data=json.dumps(credentialAttributes),\n",
    "                             headers=headersCredentialPut)\n",
    "print(credentialPut)"
   ]
  },
  {
   "cell_type": "code",
   "execution_count": null,
   "metadata": {
    "Collapsed": "false"
   },
   "outputs": [],
   "source": [
    "domainGroupID = input(\"Enter a group ID with access to domain informatin: \")\n",
    "\n",
    "credentialURL = domainURL + domainName + '/groups/' + domainGroupID\n",
    "print(credentialURL)\n",
    "\n",
    "encodedAccessKey = str(base64.b64encode(awsSecretKey.encode('utf-8')), 'utf-8')\n",
    "\n",
    "credentialAttributes = {\n",
    "    'domainId': domainName,\n",
    "    'identityType': 'group',\n",
    "    'identityId': domainGroupID,\n",
    "    'domainType': 'password',\n",
    "    'properties': {'userId': awsKeyID},\n",
    "    'secrets': {'password': encodedAccessKey}}\n",
    "\n",
    "credentialPut = requests.put(credentialURL,\n",
    "                             data=json.dumps(credentialAttributes),\n",
    "                             headers=headersCredentialPut)\n",
    "print(credentialPut)"
   ]
  },
  {
   "cell_type": "markdown",
   "metadata": {
    "Collapsed": "false"
   },
   "source": [
    "To verify the group credentials, check at `/credentials/domains/<domainName>/secrets?lookupInGroup=true`."
   ]
  },
  {
   "cell_type": "markdown",
   "metadata": {
    "Collapsed": "false"
   },
   "source": [
    "### Create or Delete an AWS Destination\n",
    "Generate a list of domain users, then create an AWS destination, verify its creation, and delete it."
   ]
  },
  {
   "cell_type": "code",
   "execution_count": null,
   "metadata": {
    "Collapsed": "false"
   },
   "outputs": [],
   "source": [
    "credentialURL = domainURL + domainName + '/credentials'\n",
    "print(credentialURL)\n",
    "\n",
    "credentialGet = requests.get(credentialURL, headers=headersGet)\n",
    "print(credentialGet)\n",
    "\n",
    "for i, domain in enumerate(credentialGet.json()['items']):\n",
    "    print(f\"{i}. Domain ID: {domain['domainId']}, {domain['identityId']}, {domain['identityType']}\")"
   ]
  },
  {
   "cell_type": "markdown",
   "metadata": {
    "Collapsed": "false"
   },
   "source": [
    "#### Create a Destination"
   ]
  },
  {
   "cell_type": "code",
   "execution_count": null,
   "metadata": {
    "Collapsed": "false"
   },
   "outputs": [],
   "source": [
    "destinationName = input(\"Enter destination name: \")\n",
    "destinationDesc = input(\"Enter description for destination {destinationName}: \")\n",
    "awsRegion = input(\"Enter AWS region: \")\n",
    "k8sClusterName = input(\"Enter AWS kubernetes cluster name: \")\n",
    "\n",
    "targetDestination = {\n",
    "    'name': destinationName,\n",
    "    'destinationType': 'aws',\n",
    "    'description': destinationDesc,\n",
    "    'properties': [{'name': 'domainId', 'value': domainName},\n",
    "                   {'name': 'region', 'value': awsRegion},\n",
    "                   {'name': 'kubernetesCluster', 'value': k8sClusterName}]}\n",
    "\n",
    "headersPost = {\n",
    "    'Content-Type': \"application/vnd.sas.models.publishing.destination.aws+json\",\n",
    "    'Authorization': 'Bearer ' + authToken}\n",
    "\n",
    "destinationPost = requests.post(host + '/modelPublish/destinations',\n",
    "                                data=json.dumps(targetDestination),\n",
    "                                headers=headersPost)\n",
    "print(destinationPost)"
   ]
  },
  {
   "cell_type": "markdown",
   "metadata": {
    "Collapsed": "false"
   },
   "source": [
    "#### Verify that the Destination was Created"
   ]
  },
  {
   "cell_type": "code",
   "execution_count": null,
   "metadata": {
    "Collapsed": "false"
   },
   "outputs": [],
   "source": [
    "destinationGet = requests.get(host + \"/modelPublish/destinations/\" + destinationName,\n",
    "                              headers=headersGet)\n",
    "print(destinationGet)\n",
    "pprint.pprint(destinationGet.json())"
   ]
  },
  {
   "cell_type": "markdown",
   "metadata": {
    "Collapsed": "false"
   },
   "source": [
    "#### Delete the Created Destination"
   ]
  },
  {
   "cell_type": "code",
   "execution_count": null,
   "metadata": {
    "Collapsed": "false"
   },
   "outputs": [],
   "source": [
    "headersDelete={'Authorization': 'Bearer ' + authToken}\n",
    "destinationDelete = requests.delete(host + \"/modelPublish/destinations/\" + destinationName,\n",
    "                                    headers = headersDelete)\n",
    "print(destinationDelete)"
   ]
  }
 ],
 "metadata": {
  "kernelspec": {
   "display_name": "Python 3",
   "language": "python",
   "name": "python3"
  },
  "language_info": {
   "codemirror_mode": {
    "name": "ipython",
    "version": 3
   },
   "file_extension": ".py",
   "mimetype": "text/x-python",
   "name": "python",
   "nbconvert_exporter": "python",
   "pygments_lexer": "ipython3",
   "version": "3.7.3"
  }
 },
 "nbformat": 4,
 "nbformat_minor": 4
}

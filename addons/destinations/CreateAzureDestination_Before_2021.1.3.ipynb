{
 "cells": [
  {
   "cell_type": "markdown",
   "metadata": {},
   "source": [
    "Copyright © 2020, SAS Institute Inc., Cary, NC, USA.  All Rights Reserved. \n",
    "SPDX-License-Identifier: Apache-2.0"
   ]
  },
  {
   "cell_type": "markdown",
   "metadata": {},
   "source": [
    "# Configure an Azure Container Publishing Destination\n",
    "\n",
    "_**Important:** Only use this example to create an Azure publishing destination for\n",
    "stable releases before SAS Viya 2021.1.3._\n",
    "\n",
    "In order to create an Azure destination, you must complete the following steps:\n",
    "\n",
    "1. Establish a connection and define URLs.\n",
    "2. Get an authorization token.\n",
    "3. Find a valid domain with Azure credentials.\n",
    "4. Create credentials for a specific user or group and define a credential domain.\n",
    "5. Submit an API post to create an Azure destination."
   ]
  },
  {
   "cell_type": "markdown",
   "metadata": {},
   "source": [
    "## Establish a Connection and Define URLs"
   ]
  },
  {
   "cell_type": "code",
   "execution_count": 1,
   "metadata": {},
   "outputs": [],
   "source": [
    "import sys\n",
    "sys.path.append('..')\n",
    "import mmAuthorization\n",
    "\n",
    "import requests\n",
    "import json, os, pprint\n",
    "import base64"
   ]
  },
  {
   "cell_type": "code",
   "execution_count": null,
   "metadata": {},
   "outputs": [],
   "source": [
    "host_name= \"localhost\"\n",
    "port = \"8080\"\n",
    "\n",
    "host_url=\"http://\" + host_name + \":\" + port\n",
    "destination_url = host_url + \"/modelPublish/destinations/\"\n",
    "modelrepo_url = host_url + \"/modelRepository/models/\"\n",
    "publishmodel_url = host_url + \"/modelPublish/models\"\n",
    "domains_url = host_url + \"/credentials/domains\"\n",
    "print(host_url)"
   ]
  },
  {
   "cell_type": "markdown",
   "metadata": {},
   "source": [
    "## Get an Authorization Token and Define Headers"
   ]
  },
  {
   "cell_type": "code",
   "execution_count": null,
   "metadata": {},
   "outputs": [],
   "source": [
    "mm_auth = mmAuthorization.mmAuthorization(\"myAuth\")\n",
    "\n",
    "admin_userId = '<SAS_user_admin_ID>'\n",
    "user_passwd =  '<SAS_user_password>'\n",
    "\n",
    "admin_auth_token = mm_auth.get_auth_token(host_url, admin_userId, user_passwd)\n",
    "\n",
    "credential_admin_headers = {\n",
    "    mmAuthorization.AUTHORIZATION_HEADER: mmAuthorization.AUTHORIZATION_TOKEN + admin_auth_token\n",
    "}\n",
    "\n",
    "credential_domain_headers = {\n",
    "    \"If-Match\":\"false\",\n",
    "    \"Content-Type\":\"application/json\",\n",
    "    mmAuthorization.AUTHORIZATION_HEADER: mmAuthorization.AUTHORIZATION_TOKEN + admin_auth_token\n",
    "}\n",
    "\n",
    "credential_user_headers = {\n",
    "    \"If-Match\":\"false\",\n",
    "    \"Content-Type\":\"application/json\",\n",
    "    mmAuthorization.AUTHORIZATION_HEADER: mmAuthorization.AUTHORIZATION_TOKEN + admin_auth_token\n",
    "}\n",
    "\n",
    "destination_azure_headers = {\n",
    "    \"If-Match\":\"false\",\n",
    "    \"Content-Type\":\"application/vnd.sas.models.publishing.destination.azure+json\",\n",
    "    mmAuthorization.AUTHORIZATION_HEADER: mmAuthorization.AUTHORIZATION_TOKEN + admin_auth_token\n",
    "}\n",
    "\n",
    "print(admin_auth_token)"
   ]
  },
  {
   "cell_type": "markdown",
   "metadata": {},
   "source": [
    "## Create a Credential Domain"
   ]
  },
  {
   "cell_type": "code",
   "execution_count": null,
   "metadata": {},
   "outputs": [],
   "source": [
    "domain_name = '<Domain_Name>'\n",
    "description = '<Domain_Description>'\n",
    "\n",
    "my_domain_url = domains_url + \"/\" + domain_name\n",
    "domain_attrs = {\n",
    "    \"id\": domain_name,\n",
    "    \"type\": \"base64\",\n",
    "    \"description\": description\n",
    "}\n",
    "\n",
    "domain = requests.put(my_domain_url, \n",
    "                       data=json.dumps(domain_attrs), headers=credential_domain_headers)\n",
    "\n",
    "print(domain)\n",
    "pprint.pprint(domain.json())"
   ]
  },
  {
   "cell_type": "markdown",
   "metadata": {},
   "source": [
    "## Create User Credentials"
   ]
  },
  {
   "cell_type": "code",
   "execution_count": null,
   "metadata": {},
   "outputs": [],
   "source": [
    "domain_name = '<Domain_Name>'\n",
    "my_domain_url = domains_url + \"/\" + domain_name\n",
    "\n",
    "user_credential_name = admin_userId\n",
    "my_credential_url = my_domain_url + \"/users/\" + user_credential_name\n",
    "\n",
    "user_id = '<Azure_Container_Registry_User_Name>'\n",
    "password = '<Azure_Container_Registry_Password>'\n",
    "\n",
    "encoded_user_id = str(base64.b64encode(user_id.encode(\"utf-8\")), \"utf-8\")\n",
    "encoded_password = str(base64.b64encode(password.encode(\"utf-8\")), \"utf-8\")\n",
    "\n",
    "serverAppId = '<Active_Directory_Server_Application_ID>' \n",
    "serverAppPassword = '<Active_Directory_Server_Application_Secret>'\n",
    "\n",
    "encodedAppPassword = str(base64.b64encode(serverAppPassword.encode(\"utf-8\")), \"utf-8\")\n",
    "\n",
    "credential_attrs = {\n",
    "    \"domainId\":domain_name,\n",
    "    \"identityType\":\"user\",\n",
    "    \"identityId\":user_credential_name,\n",
    "    \"domainType\":\"base64\",\n",
    "    \"properties\":{\"dockerRegistryUserId\":encoded_user_id,\n",
    "                  \"azureAppId\":serverAppId},\n",
    "    \"secrets\":{\"dockerRegistryPasswd\":encoded_password,\n",
    "               \"azureAppPasswd\":encodedAppPassword}   \n",
    "}\n",
    "\n",
    "credential = requests.put(my_credential_url, \n",
    "                       data=json.dumps(credential_attrs), headers=credential_user_headers)\n",
    "\n",
    "print(credential)\n",
    "pprint.pprint(credential.json())"
   ]
  },
  {
   "cell_type": "markdown",
   "metadata": {},
   "source": [
    "## Create an Azure Destination"
   ]
  },
  {
   "cell_type": "code",
   "execution_count": null,
   "metadata": {},
   "outputs": [],
   "source": [
    "dest_name = '<Destination_Name>'\n",
    "domainName = '<Domain_Name>'\n",
    "baseRepoUrl = '<Azure_Container_Registry_Base_URL>'\n",
    "\n",
    "tenantId = '<Azure_Tenant_ID>'    \n",
    "subscriptionId = '<Azure_Subscription_ID>'\n",
    "resourceGroupName = '<Azure_Resource_Group_Name>'\n",
    "k8sClusterName = '<Azure_Kubernetes_Service_Cluster_Name>'\n",
    "externalIP = '<External_IP>' # Public IP address of one of the VMs associated with the cluster.\n",
    "\n",
    "\n",
    "destination_attrs = {\n",
    "    'name': dest_name,\n",
    "    'destinationType': 'azure',\n",
    "    'properties': [{'name': \"credDomainId\", \"value\": domainName},\n",
    "                   {\"name\": \"baseRepoUrl\", \"value\": baseRepoUrl},\n",
    "                   {'name': \"tenantId\", \"value\": tenantId},\n",
    "                   {'name': \"subscriptionId\", \"value\": subscriptionId},\n",
    "                   {'name': \"resourceGroupName\", \"value\": resourceGroupName},\n",
    "                   {'name': \"kubernetesCluster\", \"value\": k8sClusterName},\n",
    "                   {'name': \"externalIP\", \"value\": externalIP}]}\n",
    "\n",
    "destination = requests.post(destination_url, \n",
    "                       data=json.dumps(destination_attrs), headers=destination_azure_headers)\n",
    "\n",
    "print(destination)\n",
    "pprint.pprint(destination.json())"
   ]
  }
 ],
 "metadata": {
  "kernelspec": {
   "display_name": "Python 3",
   "language": "python",
   "name": "python3"
  },
  "language_info": {
   "codemirror_mode": {
    "name": "ipython",
    "version": 3
   },
   "file_extension": ".py",
   "mimetype": "text/x-python",
   "name": "python",
   "nbconvert_exporter": "python",
   "pygments_lexer": "ipython3",
   "version": "3.7.3"
  }
 },
 "nbformat": 4,
 "nbformat_minor": 4
}
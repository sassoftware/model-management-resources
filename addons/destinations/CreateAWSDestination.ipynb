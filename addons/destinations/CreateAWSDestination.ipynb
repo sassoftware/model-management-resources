{
 "cells": [
  {
   "cell_type": "markdown",
   "metadata": {},
   "source": [
    "Copyright © 2020, SAS Institute Inc., Cary, NC, USA.  All Rights Reserved. \n",
    "SPDX-License-Identifier: Apache-2.0"
   ]
  },
  {
   "cell_type": "markdown",
   "metadata": {},
   "source": [
    "# Configure an Amazon Web Services (AWS) Container Publishing Destination\n",
    "\n",
    "In order to create an Amazon Web Services (AWS) destination, you must complete the following steps:\n",
    "\n",
    "1. Find a valid domain with AWS credentials.\n",
    "2. Create credentials for a specific user or group and define a credential domain.\n",
    "3. Submit an API post to create an AWS destination.\n",
    "\n",
    "_Note: An example of deleting a destination is also included._"
   ]
  },
  {
   "cell_type": "markdown",
   "metadata": {},
   "source": [
    "## Establish a Connection and Define URLs"
   ]
  },
  {
   "cell_type": "code",
   "execution_count": null,
   "metadata": {},
   "outputs": [],
   "source": [
    "import sys\n",
    "sys.path.append('..')\n",
    "import mmAuthorization\n",
    "\n",
    "import requests\n",
    "import json, os, pprint\n",
    "import base64"
   ]
  },
  {
   "cell_type": "code",
   "execution_count": null,
   "metadata": {},
   "outputs": [],
   "source": [
    "host_name= \"localhost\"\n",
    "port = \"8080\"\n",
    "\n",
    "host_url=\"http://\" + host_name + \":\" + port\n",
    "\n",
    "mm_auth = mmAuthorization.mmAuthorization(\"myAuth\")\n",
    "\n",
    "admin_userId = '<SAS_user_admin_ID>'\n",
    "user_id = '<SAS_user_ID>'\n",
    "user_passwd = '<SAS_user_password>'\n",
    "\n",
    "auth_token = mm_auth.get_auth_token(host_url, user_id, user_passwd)\n",
    "admin_auth_token = mm_auth.get_auth_token(host_url, admin_userId, user_passwd)"
   ]
  },
  {
   "cell_type": "markdown",
   "metadata": {},
   "source": [
    "## Create User Credentials and Define Domain"
   ]
  },
  {
   "cell_type": "code",
   "execution_count": null,
   "metadata": {
    "scrolled": true
   },
   "outputs": [],
   "source": [
    "credential_put_header = {\n",
    "    'Content-Type': \"application/vnd.sas.credential+json\",\n",
    "    'Accept': \"application/vnd.sas.credential+json\",\n",
    "    'Authorization': 'Bearer ' + admin_auth_token}\n",
    "\n",
    "user_credential_name = user_id\n",
    "my_credential_url = my_domain_url + \"/users/\" + user_credential_name\n",
    "\n",
    "key_id = \"<AWS_key_id>\"\n",
    "secret_access_Key = \"<AWS_secret_access_key>\"\n",
    "\n",
    "encoded_key_id = str(base64.b64encode(key_id.encode(\"utf-8\")), \"utf-8\")\n",
    "encoded_access_key = str(base64.b64encode(secret_access_Key.encode(\"utf-8\")), \"utf-8\")\n",
    "print(encoded_access_key) \n",
    "credential_attrs = {\n",
    "    \"domainId\":domain_name,\n",
    "    \"identityType\":\"user\",\n",
    "    \"identityId\":user_credential_name,\n",
    "    \"domainType\":\"base64\",\n",
    "    \"properties\":{\"accessKeyId\":encoded_key_id},\n",
    "    \"secrets\":{\"secretAccessKey\":encoded_access_key}\n",
    "}\n",
    "\n",
    "domain = requests.put(my_credential_url, \n",
    "                       data=json.dumps(credential_attrs), headers=credential_put_header)\n",
    "\n",
    "print(domain)\n",
    "pprint.pprint(domain.json()) "
   ]
  },
  {
   "cell_type": "markdown",
   "metadata": {},
   "source": [
    "## Get Credential Headers"
   ]
  },
  {
   "cell_type": "code",
   "execution_count": null,
   "metadata": {},
   "outputs": [],
   "source": [
    "headersGet = {\n",
    "    'Authorization': 'Bearer ' + admin_auth_token}\n",
    "\n",
    "credentialURL = domains_url + domain_name + '/credentials'\n",
    "print(credentialURL)\n",
    "\n",
    "credentialGet = requests.get(credentialURL, headers=headersGet)\n",
    "print(credentialGet)\n",
    "\n",
    "for i, domain in enumerate(credentialGet.json()['items']):\n",
    "    print(f\"{i}. Domain ID: {domain['domainId']}, {domain['identityId']}, {domain['identityType']}\")"
   ]
  },
  {
   "cell_type": "markdown",
   "metadata": {},
   "source": [
    "## Create an AWS Destination"
   ]
  },
  {
   "cell_type": "code",
   "execution_count": null,
   "metadata": {},
   "outputs": [],
   "source": [
    "destination_aws_post_headers = {\n",
    "    \"Content-Type\":\"application/vnd.sas.models.publishing.destination.aws+json\",\n",
    "    mmAuthorization.AUTHORIZATION_HEADER: mmAuthorization.AUTHORIZATION_TOKEN + admin_auth_token\n",
    "} \n",
    "\n",
    "dest_name = \"AWS_Demo\"\n",
    "domainName = \"aws0521\"\n",
    "awsRegion = \"us-east-1\"\n",
    "k8sClusterName = \"mm-docker-models-eks\"\n",
    "\n",
    "destination_attrs = {\n",
    "    \"name\":dest_name,\n",
    "    \"destinationType\":\"aws\",\n",
    "    \"properties\":[\n",
    "        {\"name\": \"credDomainId\",\n",
    "        \"value\": domainName},\n",
    "        {\"name\": \"region\",\n",
    "        \"value\": awsRegion},\n",
    "        {\"name\": \"kubernetesCluster\",\n",
    "        \"value\": k8sClusterName}\n",
    "    ]\n",
    "}\n",
    "\n",
    "destination = requests.post(host_url + '/modelPublish/destinations', \n",
    "                       data=json.dumps(destination_attrs), headers=destination_aws_post_headers)\n",
    "\n",
    "print(destination)\n",
    "pprint.pprint(destination.json())"
   ]
  },
  {
   "cell_type": "markdown",
   "source": [
    "## Delete a Destination"
   ],
   "metadata": {
    "collapsed": false
   }
  },
  {
   "cell_type": "code",
   "execution_count": null,
   "metadata": {},
   "outputs": [],
   "source": [
    "deletedURL = destination_url + dest_name\n",
    "\n",
    "destination = requests.delete(deletedURL, headers=credential_admin_headers)\n",
    "\n",
    "print(deletedURL)\n",
    "print(destination)\n",
    "pprint.pprint(destination.json())"
   ]
  }
 ],
 "metadata": {
  "kernelspec": {
   "display_name": "Python 3",
   "language": "python",
   "name": "python3"
  },
  "language_info": {
   "codemirror_mode": {
    "name": "ipython",
    "version": 3
   },
   "file_extension": ".py",
   "mimetype": "text/x-python",
   "name": "python",
   "nbconvert_exporter": "python",
   "pygments_lexer": "ipython3",
   "version": "3.7.3"
  }
 },
 "nbformat": 4,
 "nbformat_minor": 4
}
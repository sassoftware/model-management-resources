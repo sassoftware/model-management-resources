{
 "cells": [
  {
   "cell_type": "markdown",
   "id": "e232d256-8a46-4fb6-a3e9-f29f91292ba7",
   "metadata": {},
   "source": [
    "Copyright © 2022, SAS Institute Inc., Cary, NC, USA.  All Rights Reserved. \n",
    "SPDX-License-Identifier: Apache-2.0"
   ]
  },
  {
   "cell_type": "markdown",
   "id": "mineral-pathology",
   "metadata": {},
   "source": [
    "# Configure a Container Publishing Destination with a Git Repository\n",
    "\n",
    "_**Note:** With the release of SAS Viya 2021.2.5, you can push SAS Container Runtime artifacts to Git when publishing objects to a container publishing destination._\n",
    "\n",
    "Here are the artifacts that are included when publishing objects using SAS Container Runtime:\n",
    "\n",
    "* Model scoring files and resources that are used to score new data with your trained models. \n",
    "* Dockerfile that contains the commands necessary to assemble the image. \n",
    "* Manifest file that contains information about the image. \n",
    "\n",
    "This information ties together the model within SAS Model Manager with the immutable container published within the container registry. \n",
    "\n",
    "This notebook example, walks you through the necessary steps to configure a Private Docker publishing destination and associate it with a Git repository. When a model is published using SAS Container Runtime, the container artifacts are also be pushed into the specified Git repository.\n",
    "\n",
    "Complete the following steps:\n",
    "\n",
    "1. Specify the necessary Python packages.\n",
    "2. Specify user and connection Information.\n",
    "3. Get an authorization token.\n",
    "4. Create a domain and user credentials.\n",
    "5. Submit an API post to create a Private Docker destination that is associated with a Git repository.\n",
    "\n",
    "\n",
    "## Getting Started\n",
    "Specify the necessary Python packages."
   ]
  },
  {
   "cell_type": "code",
   "execution_count": null,
   "id": "alike-russell",
   "metadata": {},
   "outputs": [],
   "source": [
    "import requests\n",
    "import os, json\n",
    "import getpass\n",
    "import base64"
   ]
  },
  {
   "cell_type": "markdown",
   "id": "still-mobile",
   "metadata": {},
   "source": [
    "## Specify User and Connection Information"
   ]
  },
  {
   "cell_type": "code",
   "execution_count": null,
   "id": "stock-suite",
   "metadata": {},
   "outputs": [],
   "source": [
    "# Supplied SAS Viya Information \n",
    "hostport = \"Your_Viya_Environment\"\n",
    "user = \"Your_Viya_User\"\n",
    "password = \"Your_Viya_Password\"\n",
    "\n",
    "# Create Domain \n",
    "domain_name = \"Name_for_Domain\"\n",
    "domain_description = \"Optional_Domain_Description\"\n",
    "\n",
    "# Create Destination \n",
    "destName = \"Name_for_Destination\"\n",
    "destDescription = \"Optional_Destination_Description\"\n",
    "\n",
    "# Supplied Container Information \n",
    "encoded_kubeKeyData = \"Encoded_Kube_Key\"\n",
    "encoded_kubeCertData = \"Encoded_Kube_Cert\"\n",
    "userId = \"Docker_User_Id\"\n",
    "docker_password = \"Docker_Password\"\n",
    "baseRepoUrl = \"Base_Image_Respository_URL\"\n",
    "kubeUrl = \"Docker_Host_URL\"\n",
    "\n",
    "# Supplied Git Information\n",
    "gitUserId = \"Your_Git_User\"\n",
    "gitAccessToken = \"Access_Token_for_Git_User\"\n",
    "remoteRepoURL = \"Destination_Git_Repo_URL\"\n",
    "localRepoPath = \"Local_Git_Repo_Path\"\n",
    "\n",
    "userEmail = \"Optional_Email\""
   ]
  },
  {
   "cell_type": "markdown",
   "id": "smooth-depression",
   "metadata": {},
   "source": [
    "## Get an Authorization Token and Define Headers\n",
    "\n",
    "When calling APIs in SAS Viya, you need an authorization token. This code generates the authorization token."
   ]
  },
  {
   "cell_type": "code",
   "execution_count": null,
   "id": "increased-investor",
   "metadata": {},
   "outputs": [],
   "source": [
    "authUri=\"/SASLogon/oauth/token\"\n",
    "\n",
    "headersAuth={\n",
    "    \"accept\":\"application/json\",\n",
    "    \"content-type\":\"application/x-www-form-urlencoded\",\n",
    "    \"Authorization\":\"Basic c2FzLmVjOg==\"\n",
    "}\n",
    "\n",
    "authBody='grant_type=password&username=' + user + '&password=' + password\n",
    "authReturn = requests.post(hostport+authUri, data=authBody, headers=headersAuth, verify=False)\n",
    "authToken = authReturn.json()['access_token']\n",
    "\n",
    "# print(authToken)"
   ]
  },
  {
   "cell_type": "markdown",
   "id": "numerous-affair",
   "metadata": {},
   "source": [
    "## Create a Domain and User Credentials\n",
    "\n",
    "Before you can create a container destination, you must create a domain and supply the necessary credentials to access the destination and the Git  repository."
   ]
  },
  {
   "cell_type": "code",
   "execution_count": null,
   "id": "dedicated-purse",
   "metadata": {},
   "outputs": [],
   "source": [
    "domains_uri = \"/credentials/domains/\"\n",
    "credential_domain_headers = {\n",
    "    \"If-Match\":\"false\",\n",
    "    \"Content-Type\":\"application/json\",\n",
    "    'Authorization': 'Bearer ' + authToken\n",
    "}\n",
    "\n",
    "my_domain_url = hostport + domains_uri + domain_name\n",
    "domain_attrs = {\n",
    "    \"id\":domain_name,\n",
    "    \"type\":\"base64\",\n",
    "    \"description\": domain_description\n",
    "}\n",
    "\n",
    "domain = requests.put(my_domain_url, \n",
    "                      data=json.dumps(domain_attrs), \n",
    "                      headers=credential_domain_headers, verify=False)\n",
    "\n",
    "# print(domain)"
   ]
  },
  {
   "cell_type": "code",
   "execution_count": null,
   "id": "cleared-statistics",
   "metadata": {},
   "outputs": [],
   "source": [
    "my_credential_url = my_domain_url + \"/users/\" + user\n",
    "\n",
    "encoded_userId = str(base64.b64encode(userId.encode(\"utf-8\")), \"utf-8\")\n",
    "encoded_password = str(base64.b64encode(docker_password.encode(\"utf-8\")), \"utf-8\")\n",
    "\n",
    "encoded_gituserId = str(base64.b64encode(gitUserId.encode(\"utf-8\")), \"utf-8\")\n",
    "encoded_gitpassword = str(base64.b64encode(gitAccessToken.encode(\"utf-8\")), \"utf-8\")"
   ]
  },
  {
   "cell_type": "code",
   "execution_count": null,
   "id": "indonesian-spell",
   "metadata": {},
   "outputs": [],
   "source": [
    "credential_user_headers = {\n",
    "    \"If-Match\":\"false\",\n",
    "    \"Content-Type\":\"application/json\",\n",
    "    'Authorization': 'Bearer ' + authToken\n",
    "}\n",
    "\n",
    "credential_attrs = {\n",
    "    \"domainId\":domain_name,\n",
    "    \"identityType\":\"user\",\n",
    "    \"identityId\":user,\n",
    "    \"domainType\":\"base64\",\n",
    "    \"properties\":{\"dockerRegistryUserId\":encoded_userId,\n",
    "                 \"gitUserId\":encoded_gituserId},\n",
    "    \"secrets\":{\n",
    "        \"dockerRegistryPasswd\":encoded_password,\n",
    "        \"kubeKeyData\":encoded_kubeKeyData,\n",
    "        \"kubeCertData\":encoded_kubeCertData,\n",
    "        \"gitAccessToken\":encoded_gitpassword\n",
    "    }\n",
    "}\n",
    "\n",
    "#print(my_credential_url)\n",
    "credential = requests.put(my_credential_url,\n",
    "                          data=json.dumps(credential_attrs),\n",
    "                          headers=credential_user_headers, verify=False)\n",
    "\n",
    "print(credential)"
   ]
  },
  {
   "cell_type": "markdown",
   "id": "scenic-relations",
   "metadata": {},
   "source": [
    "## Create a Destination with an Associated Git Repository\n",
    "\n",
    "Here is the final step to create the Private Docker publishing destination and associate it with a Git repository. "
   ]
  },
  {
   "cell_type": "code",
   "execution_count": null,
   "id": "preliminary-crash",
   "metadata": {},
   "outputs": [],
   "source": [
    "targetDestination={\n",
    "    \"name\":destName,\n",
    "    \"destinationType\":\"privateDocker\",\n",
    "    \"description\":destDescription,\n",
    "    \"properties\":[\n",
    "        {\"name\": \"credDomainId\",\n",
    "        \"value\": domain_name},\n",
    "        {\"name\":\"baseRepoUrl\",\n",
    "        \"value\":baseRepoUrl},\n",
    "        {\"name\":\"kubeUrl\",\n",
    "        \"value\": kubeUrl},\n",
    "        {\"name\": \"RemoteRepositoryURL\",\n",
    "        \"value\": remoteRepoURL},\n",
    "        {\"name\": \"LocalRepositoryLocation\",\n",
    "        \"value\": localRepoPath},\n",
    "        {\"name\": \"UserEmail\",\n",
    "        \"value\": userEmail}\n",
    "    ]\n",
    "}\n",
    "\n",
    "headersPost = {\n",
    "    \"Content-Type\":\"application/vnd.sas.models.publishing.destination.privatedocker+json\",\n",
    "    'Authorization': 'Bearer ' + authToken\n",
    "}\n",
    "\n",
    "destination = requests.post(hostport + \"/modelPublish/destinations\", \n",
    "                       data=json.dumps(targetDestination), headers=headersPost, verify=False)\n",
    "# print(destination)"
   ]
  },
  {
   "cell_type": "markdown",
   "id": "coordinate-stretch",
   "metadata": {},
   "source": [
    "***"
   ]
  }
 ],
 "metadata": {
  "kernelspec": {
   "display_name": "Python 3",
   "language": "python",
   "name": "python3"
  },
  "language_info": {
   "codemirror_mode": {
    "name": "ipython",
    "version": 3
   },
   "file_extension": ".py",
   "mimetype": "text/x-python",
   "name": "python",
   "nbconvert_exporter": "python",
   "pygments_lexer": "ipython3",
   "version": "3.8.8"
  }
 },
 "nbformat": 4,
 "nbformat_minor": 5
}

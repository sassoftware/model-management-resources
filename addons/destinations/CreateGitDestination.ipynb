{
 "cells": [
  {
   "cell_type": "markdown",
   "metadata": {
    "jupyter": {
     "outputs_hidden": false
    }
   },
   "source": [
    "Copyright © 2021, SAS Institute Inc., Cary, NC, USA.  All Rights Reserved. "
   ]
  },
  {
   "cell_type": "markdown",
   "metadata": {},
   "source": [
    "# Configure a Git Publishing Destination\n",
    "\n",
    "In order to create a Git destination, you must complete the following steps:\n",
    "\n",
    "1. Get an authorization token. \n",
    "2. Create a domain or find a valid domain with Git credentials.\n",
    "3. Create credentials for a specific user or group and define a credential domain.\n",
    "4. Submit an API post to define and create a Git destination.\n",
    "\n",
    "   _**Note**: An example of an API request to delete a destination is also included._"
   ]
  },
  {
   "cell_type": "code",
   "execution_count": null,
   "metadata": {},
   "outputs": [],
   "source": [
    "import requests\n",
    "import json, os, pprint\n",
    "import getpass\n",
    "import base64\n",
    "import urllib.parse\n",
    "\n",
    "requests.packages.urllib3.disable_warnings()\n",
    "\n",
    "hostport=\"<host_name:port>\""
   ]
  },
  {
   "cell_type": "markdown",
   "metadata": {},
   "source": [
    "## Get an Authorization Token and Define Headers"
   ]
  },
  {
   "cell_type": "code",
   "execution_count": null,
   "metadata": {
    "jupyter": {
     "outputs_hidden": false
    }
   },
   "outputs": [],
   "source": [
    "#Get Authorization Token\n",
    "authUri=\"/SASLogon/oauth/token\"\n",
    "\n",
    "headersAuth={\n",
    "    \"accept\":\"application/json\",\n",
    "    \"content-type\":\"application/x-www-form-urlencoded\",\n",
    "    \"Authorization\":\"Basic c2FzLmVjOg==\"\n",
    "}\n",
    "authToken=\"\"\n",
    "user=\"\"\n",
    "password=\"\"\n",
    "notAuthed=True\n",
    "\n",
    "while notAuthed :\n",
    "    user = input(\"Enter user ID: \")\n",
    "    password =  urllib.parse.quote(getpass.getpass('Enter password for user %s:' % user))\n",
    "    authBody='grant_type=password&username=' + user + '&password=' + password\n",
    "    authReturn = requests.post(hostport+authUri, data=authBody, headers=headersAuth, verify=False)\n",
    "    if authReturn.status_code == requests.codes.ok :\n",
    "        authToken = authReturn.json()['access_token']\n",
    "        notAuthed = False\n",
    "    else :\n",
    "        print(\"Please enter a valid user ID and password.\")\n",
    "    \n",
    "password = \"\""
   ]
  },
  {
   "cell_type": "code",
   "execution_count": null,
   "metadata": {
    "jupyter": {
     "outputs_hidden": false
    }
   },
   "outputs": [],
   "source": [
    "headersGet = {\n",
    "    'Authorization': 'Bearer ' + authToken\n",
    "}"
   ]
  },
  {
   "cell_type": "markdown",
   "metadata": {},
   "source": [
    "## Create a Domain"
   ]
  },
  {
   "cell_type": "code",
   "execution_count": null,
   "metadata": {},
   "outputs": [],
   "source": [
    "# Create a Domain\n",
    "domains_uri = \"/credentials/domains/\"\n",
    "credential_domain_headers = {\n",
    "    \"If-Match\":\"false\",\n",
    "    \"Content-Type\":\"application/json\",\n",
    "    'Authorization': 'Bearer ' + authToken\n",
    "}\n",
    "\n",
    "# The domain name can be any easy to remember name. For example: gitdomain\n",
    "domain_name = input(\"Enter a domain name: \")\n",
    "domain_description = input(\"Enter a domain description (optional): \")\n",
    "\n",
    "my_domain_url = hostport + domains_uri + domain_name\n",
    "domain_attrs = {\n",
    "    \"id\":domain_name,\n",
    "    \"type\":\"base64\",\n",
    "    \"description\": domain_description\n",
    "}\n",
    "\n",
    "domain = requests.put(my_domain_url, \n",
    "                      data=json.dumps(domain_attrs), \n",
    "                      headers=credential_domain_headers, verify=False)\n",
    "\n",
    "print(domain)"
   ]
  },
  {
   "cell_type": "markdown",
   "metadata": {},
   "source": [
    "## Get a List of Domains to Select a Domain From"
   ]
  },
  {
   "cell_type": "code",
   "execution_count": null,
   "metadata": {},
   "outputs": [],
   "source": [
    "# This code example enables a user to get a list of domains to select a domain from.\n",
    "\n",
    "domains_uri_limit = domains_uri + \"?limit=100\"\n",
    "domains = requests.get(hostport + domains_uri_limit, headers=headersGet)\n",
    "\n",
    "print(domains)\n",
    "\n",
    "for i, domain in enumerate(domains.json()[\"items\"]):\n",
    "    print(\"%3d. domain name : %s \" % (i, domain[\"id\"]))\n",
    "\n",
    "itemNotSelected = True\n",
    "while itemNotSelected : \n",
    "    domainIndex = input(\"Enter the index number to select a domain: \")\n",
    "    try:\n",
    "        domain_name = domains.json()[\"items\"][int(domainIndex)][\"id\"]\n",
    "        itemNotSelected = False\n",
    "    except:\n",
    "        print(\"Please enter the index number for a domain to select it from the list.\")\n",
    "\n",
    "print(domain_name)"
   ]
  },
  {
   "cell_type": "markdown",
   "metadata": {},
   "source": [
    "## Create User Credential with a Git Access Token\n",
    "\n",
    "_**Note:** Gitlab is used in this example to show how to obtain a Git access token._\n",
    "\n",
    "1. Sign into your Gitlab account. \n",
    "2. Click the user icon on the right side of the toolbar and select **Settings** from the drop-down menu.\n",
    "3. In the left panel, click **Access Tokens**.\n",
    "4. Enter a name for the Git token.\n",
    "5. Specify a date for **Expires at**.\n",
    "6. Select the **write_repository** option.\n",
    "7. Click **Create personal access token**.\n",
    "8. Copy or write down the token name. \n",
    "   \n",
    "   _**Important**: This token only shows once and cannot be retrieved later._"
   ]
  },
  {
   "cell_type": "code",
   "execution_count": null,
   "metadata": {},
   "outputs": [],
   "source": [
    "credential_user_headers = {\n",
    "    \"If-Match\":\"false\",\n",
    "    \"Content-Type\":\"application/json\",\n",
    "    'Authorization': 'Bearer ' + authToken\n",
    "}\n",
    "\n",
    "# User credential name is the user ID on a SAS Viya system.\n",
    "user_credential_name = input(\"Enter the SAS Viya user name: \")\n",
    "my_credential_url = hostport + domains_uri + domain_name + \"/users/\" + user_credential_name\n",
    "\n",
    "# User ID in Git\n",
    "gitUserId = input(\"Enter your Git user ID: \")\n",
    "\n",
    "gitAccessToken = input(\"Enter the name of the Git access token: \")\n",
    "\n",
    "encoded_userId = str(base64.b64encode(gitUserId.encode(\"utf-8\")), \"utf-8\")\n",
    "encoded_password = str(base64.b64encode(gitAccessToken.encode(\"utf-8\")), \"utf-8\")\n",
    "\n",
    "credential_attrs = {\n",
    "    \"domainId\":domain_name,\n",
    "    \"identityType\":\"user\",\n",
    "    \"identityId\":user_credential_name,\n",
    "    \"domainType\":\"base64\",\n",
    "    \"properties\":{\"gitUserId\":encoded_userId},\n",
    "    \"secrets\":{\"gitAccessToken\":encoded_password}\n",
    "}\n",
    "\n",
    "credential = requests.put(my_credential_url,\n",
    "                          data=json.dumps(credential_attrs),\n",
    "                          headers=credential_user_headers, verify=False)\n",
    "\n",
    "print(credential)\n",
    "pprint.pprint(credential.json())"
   ]
  },
  {
   "cell_type": "markdown",
   "metadata": {},
   "source": [
    "## Get a Domain Credential"
   ]
  },
  {
   "cell_type": "code",
   "execution_count": null,
   "metadata": {},
   "outputs": [],
   "source": [
    "credential_uri = \"/credentials/domains/\" + domain_name + \"/credentials\"\n",
    "credentials = requests.get(hostport + credential_uri, headers=headersGet)\n",
    "\n",
    "print(credentials)\n",
    "for i, cred in enumerate(credentials.json()[\"items\"]):\n",
    "    print(\"%3d. credential name : %s \" % (i, cred[\"identityId\"]))\n",
    "\n",
    "itemNotSelected = True\n",
    "while itemNotSelected : \n",
    "    credIndex = input(\"Enter the index number to select a credential: \")\n",
    "    try:\n",
    "        cred_name = credentials.json()[\"items\"][int(credIndex)][\"identityId\"]\n",
    "        itemNotSelected = False\n",
    "    except:\n",
    "        print(\"Please enter an index number to select a credential from the list.\")\n",
    "\n",
    "print(cred_name)"
   ]
  },
  {
   "cell_type": "markdown",
   "metadata": {},
   "source": [
    "## Define a Git Destination\n",
    "\n",
    "_**Note:** After you create a domain and store the credential information for accessing your cloud provider, you can use this Jupyter notebook to define and create a publishing destination. You can also use SAS Environment Manager to define and create a Git publishing destination._"
   ]
  },
  {
   "cell_type": "code",
   "execution_count": null,
   "metadata": {
    "jupyter": {
     "outputs_hidden": false
    }
   },
   "outputs": [],
   "source": [
    "destName = input(\"Enter a destination name: \")\n",
    "destDescription = input('Enter a description for the destination %s (optional): ' % destName)\n",
    "userEmail = input(\"Enter your user email address for Git: \")\n",
    "\n",
    "# This should be the HTTPS Clone URL of your Git Repository\n",
    "# e.g. https://github.com/sassoftware/model-management-resources.git\n",
    "remoteRepositoryURL = input(\"Enter the URL for the Git Repository: \")\n",
    "gitBranch = input(\"Enter the Git branch: \")\n",
    "\n",
    "# The codeGenerationMode property is currently only used when decisions or rule sets are published to a Git destination. \n",
    "# The default value is \"MAS\", if a value is not specified.\n",
    "codeGenerationMode = input(\"Enter a value of MAS or CAS for the code generation mode: \")\n",
    "\n",
    "localRepositoryLocation = \"/mmprojectpublic\"\n",
    "\n",
    "targetDestination={\n",
    "    \"name\":destName,\n",
    "    \"destinationType\":\"git\",\n",
    "    \"description\":destDescription,\n",
    "    \"properties\":[\n",
    "        {\"name\": \"remoteRepositoryURL\",\n",
    "        \"value\": remoteRepositoryURL},\n",
    "        {\"name\": \"gitBranch\",\n",
    "        \"value\": gitBranch},\n",
    "        {\"name\": \"localRepositoryLocation\",\n",
    "        \"value\": localRepositoryLocation},\n",
    "        {\"name\": \"userEmail\",\n",
    "        \"value\": userEmail},\n",
    "        {\"name\": \"credDomainId\",\n",
    "        \"value\": domain_name},\n",
    "        {\"name\": \"codeGenerationMode\",\n",
    "        \"value\": codeGenerationMode}]\n",
    "}"
   ]
  },
  {
   "cell_type": "markdown",
   "metadata": {},
   "source": [
    "## Create a New Destination"
   ]
  },
  {
   "cell_type": "code",
   "execution_count": null,
   "metadata": {
    "jupyter": {
     "outputs_hidden": false
    }
   },
   "outputs": [],
   "source": [
    "headersPost = {\n",
    "    \"Content-Type\":\"application/vnd.sas.models.publishing.destination.git+json\",\n",
    "    'Authorization': 'Bearer ' + authToken\n",
    "}\n",
    "\n",
    "destination = requests.post(hostport + \"/modelPublish/destinations\", \n",
    "                       data=json.dumps(targetDestination), headers=headersPost, verify=False)\n",
    "\n",
    "print(destination)\n",
    "pprint.pprint(destination.json())"
   ]
  },
  {
   "cell_type": "markdown",
   "metadata": {},
   "source": [
    "## Get the New Destination"
   ]
  },
  {
   "cell_type": "code",
   "execution_count": null,
   "metadata": {
    "jupyter": {
     "outputs_hidden": false
    }
   },
   "outputs": [],
   "source": [
    "destination = requests.get(hostport + \"/modelPublish/destinations/\"+destName, headers=headersGet, verify=False)\n",
    "print(destination)\n",
    "pprint.pprint(destination.json())"
   ]
  },
  {
   "cell_type": "markdown",
   "metadata": {},
   "source": [
    "## Delete a Destination"
   ]
  },
  {
   "cell_type": "code",
   "execution_count": null,
   "metadata": {
    "jupyter": {
     "outputs_hidden": false
    }
   },
   "outputs": [],
   "source": [
    "# The destName line is only needed if you come back later after your session has ended.\n",
    "# destName = input(\"Enter a destination name: \")\n",
    "headersDelete={\n",
    "    'Authorization': 'Bearer ' + authToken\n",
    "}\n",
    "deleteDestination = requests.delete(hostport + \"/modelPublish/destinations/\" + destName, headers = headersDelete)\n",
    "print(deleteDestination)"
   ]
  },
  {
   "cell_type": "markdown",
   "metadata": {},
   "source": [
    "## Delete a Credential"
   ]
  },
  {
   "cell_type": "code",
   "execution_count": null,
   "metadata": {
    "tags": []
   },
   "outputs": [],
   "source": [
    "# The domain_name line is only needed if you come back later after your session has ended.\n",
    "# domain_name = input(\"Enter a domain name: \")\n",
    "# The user_credential_name line is only needed if you come back later after your session has ended.\n",
    "# user_credential_name = input(\"Enter a SAS Viya user name: \")\n",
    "\n",
    "headersDelete={\n",
    "    'Authorization': 'Bearer ' + authToken\n",
    "}\n",
    "deleteCredential = requests.delete(hostport + \"/credentials/domains/\" + domain_name + \"/users/\" + user_credential_name, headers = headersDelete)\n",
    "print(deleteCredential)"
   ]
  },
  {
   "cell_type": "markdown",
   "metadata": {
    "tags": []
   },
   "source": [
    "## Delete a Domain\n",
    "\n",
    "A domain can only be deleted if all credentials stored within the domain are deleted first.\n",
    "\n",
    "This can be done by including the following query parameter: includeCredentials=true"
   ]
  },
  {
   "cell_type": "code",
   "execution_count": null,
   "metadata": {},
   "outputs": [],
   "source": [
    "# The domain_name line is only needed if you come back later after your session has ended.\n",
    "# domain_name = input(\"Enter a domain name: \")\n",
    "\n",
    "headersDelete={\n",
    "    'Authorization': 'Bearer ' + authToken\n",
    "}\n",
    "deleteDomain = requests.delete(hostport + \"/credentials/domains/\" + domain_name, headers = headersDelete)\n",
    "print(deleteDomain)"
   ]
  },
  {
   "cell_type": "markdown",
   "metadata": {},
   "source": [
    "### Delete a Domain and all of the credentials stored within"
   ]
  },
  {
   "cell_type": "code",
   "execution_count": null,
   "metadata": {},
   "outputs": [],
   "source": [
    "# The domain_name line is only needed if you come back later after your session has ended.\n",
    "# domain_name = input(\"Enter a domain name: \")\n",
    "\n",
    "headersDelete={\n",
    "    'Authorization': 'Bearer ' + authToken\n",
    "}\n",
    "deleteDomain = requests.delete(hostport + \"/credentials/domains/\" + domain_name + \"?includeCredentials=true\", headers = headersDelete)\n",
    "print(deleteDomain)"
   ]
  }
 ],
 "metadata": {
  "kernelspec": {
   "display_name": "Python 3",
   "language": "python",
   "name": "python3"
  },
  "language_info": {
   "codemirror_mode": {
    "name": "ipython",
    "version": 3
   },
   "file_extension": ".py",
   "mimetype": "text/x-python",
   "name": "python",
   "nbconvert_exporter": "python",
   "pygments_lexer": "ipython3",
   "version": "3.9.10"
  }
 },
 "nbformat": 4,
 "nbformat_minor": 4
}

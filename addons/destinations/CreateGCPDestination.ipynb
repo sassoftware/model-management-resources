{
 "cells": [
  {
   "cell_type": "markdown",
   "metadata": {},
   "source": [
    "Copyright © 2022, SAS Institute Inc., Cary, NC, USA.  All Rights Reserved. \n",
    "SPDX-License-Identifier: Apache-2.0"
   ]
  },
  {
   "cell_type": "markdown",
   "metadata": {},
   "source": [
    "# Configure a Google Cloud Platform Container Publishing Destination\n",
    "\n",
    "_**Important:** This example should be used for SAS Viya 2021.2.3 and later stable releases._\n",
    "\n",
    "In order to create a Google Cloud Platform destination, you must complete the following steps:\n",
    "\n",
    "1. Establish a connection and define URLs.\n",
    "2. Get an authorization token.\n",
    "3. Find a valid domain with Google Cloud credentials.\n",
    "4. Create credentials for a specific user or group and define a credential domain.\n",
    "5. Submit an API post to create a Google Cloud Platform destination.\n",
    "\n",
    "_Note: An example of deleting a destination is also included._"
   ]
  },
  {
   "cell_type": "markdown",
   "metadata": {},
   "source": [
    "## Establish a Connection and Define URLs"
   ]
  },
  {
   "cell_type": "code",
   "execution_count": null,
   "metadata": {},
   "outputs": [],
   "source": [
    "import sys\n",
    "sys.path.append('..')\n",
    "import mmAuthorization\n",
    "\n",
    "import requests\n",
    "import json, os, pprint\n",
    "import base64"
   ]
  },
  {
   "cell_type": "code",
   "execution_count": null,
   "metadata": {},
   "outputs": [],
   "source": [
    "host_name= \"localhost\"\n",
    "port = \"8080\"\n",
    "\n",
    "host_url=\"http://\" + host_name + \":\" + port\n",
    "destination_url = host_url + \"/modelPublish/destinations/\"\n",
    "modelrepo_url = host_url + \"/modelRepository/models/\"\n",
    "publishmodel_url = host_url + \"/modelPublish/models\"\n",
    "domains_url = host_url + \"/credentials/domains\"\n",
    "print(host_url)"
   ]
  },
  {
   "cell_type": "markdown",
   "metadata": {},
   "source": [
    "## Get an Authorization Token and Define Headers"
   ]
  },
  {
   "cell_type": "code",
   "execution_count": null,
   "metadata": {},
   "outputs": [],
   "source": [
    "mm_auth = mmAuthorization.mmAuthorization(\"myAuth\")\n",
    "\n",
    "admin_userId = '<SAS_user_admin_ID>'\n",
    "user_passwd =  '<SAS_user_password>'\n",
    "\n",
    "sas_userId = '<SAS_user_ID>'\n",
    "\n",
    "admin_auth_token = mm_auth.get_auth_token(host_url, admin_userId, user_passwd)\n",
    "\n",
    "credential_admin_headers = {\n",
    "    mmAuthorization.AUTHORIZATION_HEADER: mmAuthorization.AUTHORIZATION_TOKEN + admin_auth_token\n",
    "}\n",
    "\n",
    "credential_domain_headers = {\n",
    "    \"If-Match\":\"false\",\n",
    "    \"Content-Type\":\"application/json\",\n",
    "    mmAuthorization.AUTHORIZATION_HEADER: mmAuthorization.AUTHORIZATION_TOKEN + admin_auth_token\n",
    "}\n",
    "\n",
    "credential_user_headers = {\n",
    "    \"If-Match\":\"false\",\n",
    "    \"Content-Type\":\"application/json\",\n",
    "    mmAuthorization.AUTHORIZATION_HEADER: mmAuthorization.AUTHORIZATION_TOKEN + admin_auth_token\n",
    "}\n",
    "\n",
    "destination_azure_headers = {\n",
    "    \"If-Match\":\"false\",\n",
    "    \"Content-Type\":\"application/vnd.sas.models.publishing.destination.azure+json\",\n",
    "    mmAuthorization.AUTHORIZATION_HEADER: mmAuthorization.AUTHORIZATION_TOKEN + admin_auth_token\n",
    "}\n",
    "\n",
    "print(admin_auth_token)"
   ]
  },
  {
   "cell_type": "markdown",
   "metadata": {},
   "source": [
    "## Create a Credential Domain"
   ]
  },
  {
   "cell_type": "code",
   "execution_count": null,
   "metadata": {},
   "outputs": [],
   "source": [
    "domain_name = '<Domain_Name>'\n",
    "description = '<Domain_Description>'\n",
    "\n",
    "my_domain_url = domains_url + \"/\" + domain_name\n",
    "domain_attrs = {\n",
    "    \"id\": domain_name,\n",
    "    \"type\": \"base64\",\n",
    "    \"description\": description\n",
    "}\n",
    "\n",
    "domain = requests.put(my_domain_url, \n",
    "                       data=json.dumps(domain_attrs), headers=credential_domain_headers)\n",
    "\n",
    "print(domain)\n",
    "pprint.pprint(domain.json())"
   ]
  },
  {
   "cell_type": "markdown",
   "metadata": {},
   "source": [
    "## Create User Credentials"
   ]
  },
  {
   "cell_type": "code",
   "execution_count": null,
   "metadata": {},
   "outputs": [],
   "source": [
    "domain_name = '<Domain_Name>'\n",
    "my_domain_url = domains_url + \"/\" + domain_name\n",
    "\n",
    "user_credential_name = sas_userId\n",
    "my_credential_url = my_domain_url + \"/users/\" + user_credential_name\n",
    "\n",
    "clientID = '<GCP_Service_Account_ID>'\n",
    "clientSecret = '<GCP_Service_Account_JSON_Key>'\n",
    "\n",
    "encoded_clientID = str(base64.b64encode(clientID.encode(\"utf-8\")), \"utf-8\")\n",
    "encoded_clientSecret = str(base64.b64encode(clientSecret.encode(\"utf-8\")), \"utf-8\")\n",
    "\n",
    "credential_attrs = {\n",
    "    \"domainId\":domain_name,\n",
    "    \"identityType\":\"user\",\n",
    "    \"identityId\":user_credential_name,\n",
    "    \"domainType\":\"base64\",\n",
    "    \"properties\":{\"serviceAccount\":encoded_clientID},\n",
    "    \"secrets\":{\"credentialJson\":encoded_clientSecret}\n",
    "}\n",
    "\n",
    "credential = requests.put(my_credential_url, \n",
    "                       data=json.dumps(credential_attrs), headers=credential_user_headers)\n",
    "\n",
    "print(credential)\n",
    "pprint.pprint(credential.json())"
   ]
  },
  {
   "cell_type": "markdown",
   "metadata": {},
   "source": [
    "## Create a Google Cloud Platform Destination"
   ]
  },
  {
   "cell_type": "code",
   "execution_count": null,
   "metadata": {},
   "outputs": [],
   "source": [
    "dest_name = '<Destination_Name>'\n",
    "domainName = '<Domain_Name>'\n",
    "baseRepoUrl = '<GCP_Container_Registry_Base_URL>' # Typically: gcr.io/<subsciption-ID> (i.e. gcr.io/solorgasub7)\n",
    "k8sClusterName = '<GCP_Kubernetes_Service_Cluster_Name>' # The name of the cluster used for validation.\n",
    "region= '<region>' # The \"Control plane zone\" associated with the cluster.\n",
    "\n",
    "destination_attrs = {\n",
    "    'name': dest_name,\n",
    "    'destinationType': 'gcp',\n",
    "    'properties': [{'name': \"credDomainId\", \"value\": domainName},\n",
    "                   {\"name\": \"baseRepoUrl\", \"value\": baseRepoUrl},\n",
    "                   {'name': \"kubernetesCluster\", \"value\": k8sClusterName},\n",
    "                   {'name': \"clusterLocation\", \"value\": region}]}\n",
    "\n",
    "destination = requests.post(destination_url, \n",
    "                       data=json.dumps(destination_attrs), headers=destination_azure_headers)\n",
    "\n",
    "print(destination)\n",
    "pprint.pprint(destination.json())"
   ]
  },
  {
   "cell_type": "markdown",
   "metadata": {},
   "source": [
    "## Delete a Destination"
   ]
  },
  {
   "cell_type": "code",
   "execution_count": null,
   "metadata": {},
   "outputs": [],
   "source": [
    "deletedURL = destination_url + dest_name\n",
    "\n",
    "destination = requests.delete(deletedURL, headers=credential_admin_headers)\n",
    "\n",
    "print(deletedURL)\n",
    "print(destination)\n",
    "pprint.pprint(destination.json())"
   ]
  }
 ],
 "metadata": {
  "kernelspec": {
   "display_name": "Python 3",
   "language": "python",
   "name": "python3"
  },
  "language_info": {
   "codemirror_mode": {
    "name": "ipython",
    "version": 3
   },
   "file_extension": ".py",
   "mimetype": "text/x-python",
   "name": "python",
   "nbconvert_exporter": "python",
   "pygments_lexer": "ipython3",
   "version": "3.8.8"
  }
 },
 "nbformat": 4,
 "nbformat_minor": 4
}
{
 "cells": [
  {
   "cell_type": "markdown",
   "metadata": {
    "Collapsed": "false"
   },
   "source": [
    "Copyright © 2020, SAS Institute Inc., Cary, NC, USA.  All Rights Reserved. <br>\n",
    "SPDX-License-Identifier: Apache-2.0"
   ]
  },
  {
   "cell_type": "markdown",
   "metadata": {
    "Collapsed": "false"
   },
   "source": [
    "# Administer User Groups"
   ]
  },
  {
   "cell_type": "markdown",
   "metadata": {
    "Collapsed": "false"
   },
   "source": [
    "This example shows how to administer user group identities for the following tasks:\n",
    "\n",
    "* Get a list of custom groups\n",
    "* Display a list of the group members\n",
    "* Create a new custom group\n",
    "* Add members to a group\n"
   ]
  },
  {
   "cell_type": "markdown",
   "metadata": {
    "Collapsed": "false"
   },
   "source": [
    "### Step 1: Initialization"
   ]
  },
  {
   "cell_type": "code",
   "execution_count": null,
   "metadata": {
    "Collapsed": "false"
   },
   "outputs": [],
   "source": [
    "import requests\n",
    "import json\n",
    "import getpass\n",
    "import base64\n",
    "\n",
    "host = \"http://myserver.com\""
   ]
  },
  {
   "cell_type": "markdown",
   "metadata": {
    "Collapsed": "false"
   },
   "source": [
    "### Step 2: Get Authoritzation Token"
   ]
  },
  {
   "cell_type": "code",
   "execution_count": null,
   "metadata": {
    "Collapsed": "false"
   },
   "outputs": [],
   "source": [
    "authURI = \"/SASLogon/oauth/token\"\n",
    "\n",
    "headersAuth = {\n",
    "    'accept': \"application/json\",\n",
    "    'content-type': \"application/x-www-form-urlencoded\",\n",
    "    'Authorization': \"Basic c2FzLmVjOg==\"}\n",
    "authToken = ''\n",
    "username = ''\n",
    "password = ''\n",
    "notAuthenticated = True\n",
    "\n",
    "while notAuthenticated:\n",
    "    username = input(\"Enter adminstrator username: \")\n",
    "    password = getpass.getpass(f\"Enter password for user {username}: \")\n",
    "    authBody = f\"grant_type=password&username={username}&password={password}\"\n",
    "    authPost = requests.post(host + authURI,\n",
    "                             data=authBody,\n",
    "                             headers=headersAuth)\n",
    "    if authPost.status_code == requests.codes.ok:\n",
    "        authToken = authPost.json()['access_token']\n",
    "        notAuthenticated = False\n",
    "    else:\n",
    "        print(\"Please enter a valid username and password combination.\")\n",
    "\n",
    "password = ''"
   ]
  },
  {
   "cell_type": "markdown",
   "metadata": {
    "Collapsed": "false"
   },
   "source": [
    "### Step 3: Update User Groups"
   ]
  },
  {
   "cell_type": "code",
   "execution_count": null,
   "metadata": {
    "Collapsed": "false"
   },
   "outputs": [],
   "source": [
    "selectedIndex = 0\n",
    "addMembers = True\n",
    "selectedGroup = {}\n",
    "selectedIndex = 0\n",
    "index = 0\n",
    "groupName = \"\"\n",
    "\n",
    "import sys\n",
    "from io import StringIO\n",
    "from IPython import get_ipython\n",
    "\n",
    "\n",
    "class IpyExit(SystemExit):\n",
    "    \"\"\"Exit Exception for IPython.\n",
    "\n",
    "    Exception temporarily redirects stderr to buffer.\n",
    "    \"\"\"\n",
    "    def __init__(self):\n",
    "        # print(\"exiting\")  # optionally print some message to stdout, too\n",
    "        # ... or do other stuff before exit\n",
    "        sys.stderr = StringIO()\n",
    "\n",
    "    def __del__(self):\n",
    "        sys.stderr.close()\n",
    "        sys.stderr = sys.__stderr__  # restore from backup\n",
    "\n",
    "\n",
    "def ipy_exit():\n",
    "    raise IpyExit\n",
    "\n",
    "\n",
    "if get_ipython():    # ...run with IPython\n",
    "    exit = ipy_exit  # rebind to custom exit\n",
    "else:\n",
    "    exit = exit      # just make exit importable\n",
    "    \n",
    "def getCustomGroups():\n",
    "    headersGetGroups={'Authorization': 'Bearer ' + authToken,\n",
    "                  'Accept': 'application/json'}\n",
    "    identities = requests.get(host + \"/identities/groups?providerId=local&start=0&limit=100&sortBy=name\",\n",
    "                                    headers = headersGetGroups)\n",
    "    if identities.status_code == 200:\n",
    "        print('Log in successful')\n",
    "    else:\n",
    "        print('Log in failed')\n",
    "        raise IpyExit\n",
    "        \n",
    "    return identities.json()['items']\n",
    "    \n",
    "def displayGroupNames(customGroups):\n",
    "    index = 1\n",
    "    for group in customGroups:\n",
    "        print(str(index) + \". \" + group['name'])\n",
    "        index = index + 1\n",
    "    print(str(index) + \". Create New Group\")\n",
    "    selectedIndex = input(\"Select group to edit:\")\n",
    "    return index, selectedIndex\n",
    "\n",
    "def getSelectedGroup():\n",
    "    newGroup = False\n",
    "    try:\n",
    "        int(selectedIndex)\n",
    "    except ValueError:\n",
    "        print('Invalid entry. Exiting.')\n",
    "        raise IpyExit\n",
    "        \n",
    "    if int(selectedIndex) == index:\n",
    "        addMembers = True\n",
    "        groupName = input(\"Enter new group name:\")\n",
    "        groupId = input(\"Enter new group ID:\")\n",
    "        selectedGroup = {'name': groupName, 'id': groupId}\n",
    "        newGroup = True\n",
    "    elif int(selectedIndex) > 0 and int(selectedIndex) < index:\n",
    "        selectedGroup = customGroups[int(selectedIndex) -1] \n",
    "        groupName = selectedGroup['name']\n",
    "        groupId = selectedGroup['id']\n",
    "        print(\"1. List group members\")\n",
    "        print(\"2. Add new group members\")\n",
    "        selectedOpt = input(\"Select: \")\n",
    "        if int(selectedOpt) == 1:\n",
    "            addMembers = False\n",
    "        elif int(selectedOpt) == 2:\n",
    "            addMembers = True\n",
    "        else:\n",
    "            getSelectedGroup()\n",
    "    else:\n",
    "        print(\"Selected item not known\")\n",
    "        addMembers = False\n",
    "        groupName = \"\"\n",
    "        groupId = \"\"\n",
    "        raise IpyExit\n",
    "        \n",
    "    return addMembers, groupName, groupId, newGroup\n",
    "\n",
    "def addGroupMembers(groupId, groupName, newGroup):\n",
    "    memberName = \"\"\n",
    "    memberList = []\n",
    "    if newGroup:\n",
    "        headersUpdateGroup={'Authorization': 'Bearer ' + authToken,\n",
    "                          'Content-type': 'application/json'}\n",
    "        body = {\"id\": groupId, \"name\": groupName}\n",
    "        identities = requests.post(host + \"/identities/groups/\",\n",
    "                                    headers = headersUpdateGroup,\n",
    "                                    data = json.dumps(body))\n",
    "        if identities.status_code == 201:\n",
    "            print(groupName + ' was created successfully')\n",
    "        else:\n",
    "            print('Group: ' + groupName + ' could not be created with the status: ' + str(identities.status_code))\n",
    "\n",
    "    while memberName == \"\":\n",
    "        memberName = input(\"Enter member user ID <leave blank when done>:\")\n",
    "        if memberName != \"\":\n",
    "            memberList.append(memberName)\n",
    "            memberName = \"\"\n",
    "        else:\n",
    "            break\n",
    "    for userName in memberList:\n",
    "        headersUpdateGroup={'Authorization': 'Bearer ' + authToken,\n",
    "                          'Content-type': 'application/json'}\n",
    "        identities = requests.put(host + \"/identities/groups/\" + groupId + \"/userMembers/\" + userName,\n",
    "                                    headers = headersUpdateGroup)\n",
    "        if identities.status_code != 201:\n",
    "            print(\"User: \" + userName + \" could not be added to the group with the status: \" + str(identities.status_code))\n",
    "        else:\n",
    "            print(\"User: \" + userName + \" was added successfully.\")\n",
    "\n",
    "def listGroupMembers(groupName):\n",
    "        headersGetMembers={'Authorization': 'Bearer ' + authToken,\n",
    "                          'Accept': 'application/json'}\n",
    "        identitiesResponse = requests.get(host + \"/identities/groups/\" + groupName + \"/members\",\n",
    "                                    headers = headersGetMembers)\n",
    "        userMembers = []\n",
    "        identities = identitiesResponse.json()\n",
    "        if identities['count'] > 0:\n",
    "            userMembers = identities['items']\n",
    "            for userMember in userMembers:\n",
    "                print(\"ID: \" + userMember['id'] + \"  Name: \" + userMember['name'])\n",
    "        else:\n",
    "            print(\"No members for this group.\")\n",
    "\n",
    "customGroups = getCustomGroups()\n",
    "groupSelections = displayGroupNames(customGroups)\n",
    "index = groupSelections[0]\n",
    "selectedIndex = groupSelections[1]\n",
    "groupResult = getSelectedGroup()\n",
    "addMembers = groupResult[0]\n",
    "groupName = groupResult[1]\n",
    "groupId = groupResult[2]\n",
    "newGroup = groupResult[3]\n",
    "\n",
    "if addMembers:\n",
    "    addGroupMembers(groupId, groupName, newGroup)\n",
    "else:\n",
    "    listGroupMembers(groupId)"
   ]
  },
  {
   "cell_type": "code",
   "execution_count": null,
   "metadata": {
    "Collapsed": "false"
   },
   "outputs": [],
   "source": []
  }
 ],
 "metadata": {
  "kernelspec": {
   "display_name": "Python 3",
   "language": "python",
   "name": "python3"
  },
  "language_info": {
   "codemirror_mode": {
    "name": "ipython",
    "version": 3
   },
   "file_extension": ".py",
   "mimetype": "text/x-python",
   "name": "python",
   "nbconvert_exporter": "python",
   "pygments_lexer": "ipython3",
   "version": "3.7.3"
  }
 },
 "nbformat": 4,
 "nbformat_minor": 4
}

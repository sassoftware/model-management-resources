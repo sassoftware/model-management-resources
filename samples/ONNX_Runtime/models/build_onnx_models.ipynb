{
 "cells": [
  {
   "cell_type": "markdown",
   "source": [
    "## Building ONNX Models for SAS Model Manager\n",
    "This notebook serves as an example of how to create ONNX models for use in SAS Model Manager in combination with the ONNX runtime service discussed on the main page's README file.\n",
    "\n",
    "Here are the Python packages that are used:\n",
    "- pandas for dataframe manipulation\n",
    "- sklearn for building a regression model, a binary classification model, and a multi-classification model\n",
    "- skl2onnx for converting our scikit-learn models into the ONNX format\n",
    "- sasctl for creating the SAS Model Manager JSON files and uploading the model to SAS Model Manager"
   ],
   "metadata": {
    "collapsed": false
   }
  },
  {
   "cell_type": "markdown",
   "source": [
    "### Package Imports"
   ],
   "metadata": {
    "collapsed": false
   }
  },
  {
   "cell_type": "code",
   "execution_count": 1,
   "metadata": {
    "collapsed": true,
    "ExecuteTime": {
     "end_time": "2024-03-25T19:55:48.011470Z",
     "start_time": "2024-03-25T19:55:44.222552900Z"
    }
   },
   "outputs": [],
   "source": [
    "from pathlib import Path\n",
    "\n",
    "import pandas as pd\n",
    "\n",
    "from sklearn.datasets import load_iris, load_diabetes, load_breast_cancer\n",
    "from sklearn.tree import DecisionTreeClassifier\n",
    "from sklearn.ensemble import GradientBoostingRegressor\n",
    "from sklearn.linear_model import LogisticRegression\n",
    "from sklearn.model_selection import train_test_split\n",
    "\n",
    "from skl2onnx import convert_sklearn\n",
    "from skl2onnx.common.data_types import FloatTensorType\n",
    "\n",
    "from sasctl import pzmm"
   ]
  },
  {
   "cell_type": "markdown",
   "source": [],
   "metadata": {
    "collapsed": false
   }
  },
  {
   "cell_type": "markdown",
   "source": [
    "### Building Models and Writing SAS Model Manager JSON Assets"
   ],
   "metadata": {
    "collapsed": false
   }
  },
  {
   "cell_type": "code",
   "execution_count": 0,
   "outputs": [],
   "source": [
    "# Collect training data sets from built in data from scikit-learn\n",
    "datasets = [load_breast_cancer(as_frame=True), load_diabetes(as_frame=True), load_iris(as_frame=True)]\n",
    "# Initialize the model objects, names, and types\n",
    "models = [None, None, None]\n",
    "model_type = [DecisionTreeClassifier, GradientBoostingRegressor, LogisticRegression]\n",
    "# We use the *.pickle extension for ease of use with python-sasctl; in practice, it does not matter what extension you assign to the ONNX model files\n",
    "model_name = [\"dtc_cancer.pickle\", \"gbr_diabetes.pickle\", \"lr_iris.pickle\"]\n",
    "dataset_updates = [\"dtc_cancer.csv\", \"gbr_diabetes.csv\", \"lr_iris.csv\"]"
   ],
   "metadata": {
    "collapsed": false
   }
  },
  {
   "cell_type": "code",
   "execution_count": 2,
   "outputs": [
    {
     "name": "stdout",
     "output_type": "stream",
     "text": [
      "inputVar.json was successfully written and saved to models\\dtc_cancer\\inputVar.json\n",
      "outputVar.json was successfully written and saved to models\\dtc_cancer\\outputVar.json\n",
      "ModelProperties.json was successfully written and saved to models\\dtc_cancer\\ModelProperties.json\n",
      "fileMetadata.json was successfully written and saved to models\\dtc_cancer\\fileMetadata.json\n",
      "inputVar.json was successfully written and saved to models\\gbr_diabetes\\inputVar.json\n",
      "outputVar.json was successfully written and saved to models\\gbr_diabetes\\outputVar.json\n",
      "ModelProperties.json was successfully written and saved to models\\gbr_diabetes\\ModelProperties.json\n",
      "fileMetadata.json was successfully written and saved to models\\gbr_diabetes\\fileMetadata.json\n",
      "inputVar.json was successfully written and saved to models\\lr_iris\\inputVar.json\n",
      "outputVar.json was successfully written and saved to models\\lr_iris\\outputVar.json\n",
      "ModelProperties.json was successfully written and saved to models\\lr_iris\\ModelProperties.json\n",
      "fileMetadata.json was successfully written and saved to models\\lr_iris\\fileMetadata.json\n"
     ]
    },
    {
     "name": "stderr",
     "output_type": "stream",
     "text": [
      "C:\\ProgramData\\Anaconda3\\envs\\2024InnovateDemo\\lib\\site-packages\\sklearn\\linear_model\\_logistic.py:469: ConvergenceWarning: lbfgs failed to converge (status=1):\n",
      "STOP: TOTAL NO. of ITERATIONS REACHED LIMIT.\n",
      "\n",
      "Increase the number of iterations (max_iter) or scale the data as shown in:\n",
      "    https://scikit-learn.org/stable/modules/preprocessing.html\n",
      "Please also refer to the documentation for alternative solver options:\n",
      "    https://scikit-learn.org/stable/modules/linear_model.html#logistic-regression\n",
      "  n_iter_i = _check_optimize_result(\n"
     ]
    }
   ],
   "source": [
    "# For each dataset, create a different type of ONNX model and serialize it to a file\n",
    "for i, data in enumerate(datasets):\n",
    "    # Separate the data into predictors and target\n",
    "    X, y = data.data, data.target\n",
    "\n",
    "    # Create and fit the model with the training data\n",
    "    models[i] = model_type[i]()\n",
    "    models[i].fit(X, y)\n",
    "\n",
    "    # Convert the scikit-learn model to ONNX format\n",
    "    initial_type = [(\"float_input\", FloatTensorType([None, X.shape[1]]))]\n",
    "    onnx_model = convert_sklearn(models[i], initial_types=initial_type)\n",
    "    with open(f\"models/{Path(model_name[i]).stem}/{model_name[i]}\", \"wb\") as file:\n",
    "        file.write(onnx_model.SerializeToString())\n",
    "\n",
    "    file_path = f\"models/{Path(model_name[i]).stem}\"\n",
    "    X = pd.read_csv(Path(file_path) / dataset_updates[i])\n",
    "\n",
    "    # Create the metadata JSON files used by SAS Model Manager\n",
    "    pzmm.JSONFiles.write_var_json(\n",
    "        input_data=X,\n",
    "        is_input=True,\n",
    "        json_path=file_path\n",
    "    )\n",
    "    pzmm.JSONFiles.write_var_json(\n",
    "        input_data=pd.DataFrame(columns=[\"EM_CLASSIFICATION\"], data=[[\"A\"]]),\n",
    "        is_input=False,\n",
    "        json_path=file_path\n",
    "    )\n",
    "    pzmm.JSONFiles.write_model_properties_json(\n",
    "        model_name=Path(model_name[i]).stem,\n",
    "        target_variable=y.name,\n",
    "        json_path=file_path\n",
    "    )\n",
    "    pzmm.JSONFiles.write_file_metadata_json(\n",
    "        model_prefix=Path(model_name[i]).stem,\n",
    "        json_path=file_path\n",
    "    )"
   ],
   "metadata": {
    "collapsed": false,
    "ExecuteTime": {
     "end_time": "2024-03-25T19:59:34.756713300Z",
     "start_time": "2024-03-25T19:59:34.451711700Z"
    }
   }
  },
  {
   "cell_type": "markdown",
   "source": [
    "### Write Score Code for Each Model\n",
    "Note that the URL must be adjusted for the appropriate DNS of the onnx-service. For this example, the SAS Viya server DNS is defined as `onnx-service.base.svc.cluster.local`, where `onnx-service` is the name of the defined service, `base` is the namespace where the service is located, `svc` defines the fact that you are referencing a service, and `cluster.local` is the default DNS specification for the SAS Viya server."
   ],
   "metadata": {
    "collapsed": false
   }
  },
  {
   "cell_type": "code",
   "execution_count": 3,
   "outputs": [],
   "source": [
    "cancer_score_code = \"\"\"\n",
    "from pathlib import Path\n",
    "\n",
    "import requests\n",
    "\n",
    "import settings\n",
    "\n",
    "def score_model(MEANRADIUS, MEANTEXTURE, MEANPERIMETER, MEANAREA, MEANSMOOTHNESS, MEANCOMPACTNESS, MEANCONCAVITY, MEANCONCAVEPOINTS, MEANSYMMETRY, MEANFRACTALDIMENSIONS, RADIUSERROR, TEXTUREERROR, PERIMETERERROR, AREAERROR, SMOOTHNESSERROR, COMPACTNESSERROR, CONCAVITYERROR, CONCAVEPOINTSERROR, SYMMETRYERROR, FRACTALDIMENSIONERROR, WORSTRADIUS, WORSTTEXTURE, WORSTPERIMETER, WORSTAREA, WORSTSMOOTHNESS, WORSTCOMPACTNESS, WORSTCONCAVITY, WORSTCONCAVEPOINTS, WORSTSYMMETRY, WORSTFRACTALDIMENSION):\n",
    "    \"Output: EM_CLASSIFICATION\"\n",
    "\n",
    "    model_path = str(Path(settings.pickle_path) / \"dtc_cancer.pickle\")\n",
    "    input_data = [MEANRADIUS, MEANTEXTURE, MEANPERIMETER, MEANAREA, MEANSMOOTHNESS, MEANCOMPACTNESS, MEANCONCAVITY, MEANCONCAVEPOINTS, MEANSYMMETRY, MEANFRACTALDIMENSIONS, RADIUSERROR, TEXTUREERROR, PERIMETERERROR, AREAERROR, SMOOTHNESSERROR, COMPACTNESSERROR, CONCAVITYERROR, CONCAVEPOINTSERROR, SYMMETRYERROR, FRACTALDIMENSIONERROR, WORSTRADIUS, WORSTTEXTURE, WORSTPERIMETER, WORSTAREA, WORSTSMOOTHNESS, WORSTCOMPACTNESS, WORSTCONCAVITY, WORSTCONCAVEPOINTS, WORSTSYMMETRY, WORSTFRACTALDIMENSION]\n",
    "    data = {\"model\": model_path, \"data\": input_data}\n",
    "\n",
    "    url = \"http://onnx-service.base.svc.cluster.local:8080/predict\"\n",
    "    response = requests.post(url, json=data)\n",
    "\n",
    "    return str(response.json()[\"output\"][0])\n",
    "\"\"\"\n",
    "with open(\"models/dtc_cancer/score_dtc_cancer.py\", \"w\") as file:\n",
    "    file.write(cancer_score_code)"
   ],
   "metadata": {
    "collapsed": false,
    "ExecuteTime": {
     "end_time": "2024-03-25T19:59:38.807479700Z",
     "start_time": "2024-03-25T19:59:38.781443600Z"
    }
   }
  },
  {
   "cell_type": "code",
   "execution_count": 4,
   "outputs": [],
   "source": [
    "diabetes_score_code = \"\"\"\n",
    "from pathlib import Path\n",
    "\n",
    "import requests\n",
    "\n",
    "import settings\n",
    "\n",
    "def score_model(AGE, SEX, BMI, BP, S1, S2, S3, S4, S5, S6):\n",
    "    \"Output: EM_CLASSIFICATION\"\n",
    "\n",
    "    model_path = str(Path(settings.pickle_path) / \"gbr_diabetes.pickle\")\n",
    "    input_data = [AGE, SEX, BMI, BP, S1, S2, S3, S4, S5, S6]\n",
    "    data = {\"model\": model_path, \"data\": input_data}\n",
    "\n",
    "    url = \"http://onnx-service.base.svc.cluster.local:8080/predict\"\n",
    "    response = requests.post(url, json=data)\n",
    "\n",
    "    return str(response.json()[\"output\"][0])\n",
    "\"\"\"\n",
    "with open(\"models/gbr_diabetes/score_gbr_diabetes.py\", \"w\") as file:\n",
    "    file.write(diabetes_score_code)"
   ],
   "metadata": {
    "collapsed": false,
    "ExecuteTime": {
     "end_time": "2024-03-25T19:59:39.418793400Z",
     "start_time": "2024-03-25T19:59:39.401794200Z"
    }
   }
  },
  {
   "cell_type": "code",
   "execution_count": 5,
   "outputs": [],
   "source": [
    "iris_score_code = \"\"\"\n",
    "from pathlib import Path\n",
    "\n",
    "import requests\n",
    "\n",
    "import settings\n",
    "\n",
    "def score_model(SEPALLENGTH, SEPALWIDTH, PETALLENGTH, PETALWIDTH):\n",
    "    \"Output: EM_CLASSIFICATION\"\n",
    "\n",
    "    model_path = str(Path(settings.pickle_path) / \"lr_iris.pickle\")\n",
    "    input_data = [SEPALLENGTH, SEPALWIDTH, PETALLENGTH, PETALWIDTH]\n",
    "    data = {\"model\": model_path, \"data\": input_data}\n",
    "\n",
    "    url = \"http://onnx-service.base.svc.cluster.local:8080/predict\"\n",
    "    response = requests.post(url, json=data)\n",
    "\n",
    "    return str(response.json()[\"output\"][0])\n",
    "\"\"\"\n",
    "with open(\"models/lr_iris/score_lr_iris.py\", \"w\") as file:\n",
    "    file.write(iris_score_code)"
   ],
   "metadata": {
    "collapsed": false,
    "ExecuteTime": {
     "end_time": "2024-03-25T19:59:40.147811800Z",
     "start_time": "2024-03-25T19:59:40.108817Z"
    }
   }
  },
  {
   "cell_type": "markdown",
   "source": [
    "### Upload the Model to SAS Model Manager"
   ],
   "metadata": {
    "collapsed": false
   }
  },
  {
   "cell_type": "code",
   "execution_count": 6,
   "outputs": [],
   "source": [
    "from sasctl import Session\n",
    "host = \"demo.sas.com\"\n",
    "username = \"username\"\n",
    "password = \"password\"\n",
    "sess = Session(host, username, password, protocol=\"http\")"
   ],
   "metadata": {
    "collapsed": false,
    "ExecuteTime": {
     "end_time": "2024-03-25T19:59:44.179425200Z",
     "start_time": "2024-03-25T19:59:43.811847200Z"
    }
   }
  },
  {
   "cell_type": "code",
   "execution_count": 7,
   "outputs": [
    {
     "name": "stderr",
     "output_type": "stream",
     "text": [
      "C:\\ProgramData\\Anaconda3\\envs\\2024InnovateDemo\\lib\\site-packages\\sasctl\\pzmm\\import_model.py:315: UserWarning: The following arguments are required for the automatic generation of score code: input_data, predict_method, score_metrics.\n",
      "  warn(\n",
      "C:\\ProgramData\\Anaconda3\\envs\\2024InnovateDemo\\lib\\site-packages\\sasctl\\pzmm\\import_model.py:86: UserWarning: No project with the name or UUID ONNXDemo was found.\n",
      "  warn(f\"No project with the name or UUID {project} was found.\")\n"
     ]
    },
    {
     "name": "stdout",
     "output_type": "stream",
     "text": [
      "All model files were zipped to models\\lr_iris.\n",
      "A new project named ONNXDemo was created.\n"
     ]
    }
   ],
   "source": [
    "model = pzmm.ImportModel.import_model(\n",
    "    model_files=\"models/lr_iris\",\n",
    "    model_prefix=\"lr_iris\",\n",
    "    project=\"ONNXDemo\",\n",
    "    force=True\n",
    ")"
   ],
   "metadata": {
    "collapsed": false,
    "ExecuteTime": {
     "end_time": "2024-03-25T19:59:55.327127900Z",
     "start_time": "2024-03-25T19:59:52.355679300Z"
    }
   }
  },
  {
   "cell_type": "code",
   "execution_count": 9,
   "outputs": [],
   "source": [
    "from sasctl.services import model_repository as mr\n",
    "score_upload = mr.add_model_content(\n",
    "    model=\"lr_iris\",\n",
    "    file=iris_score_code,\n",
    "    name=\"score_lr_iris.py\",\n",
    "    role=\"score\"\n",
    ")"
   ],
   "metadata": {
    "collapsed": false,
    "ExecuteTime": {
     "end_time": "2024-03-25T20:00:53.078679100Z",
     "start_time": "2024-03-25T20:00:52.645879500Z"
    }
   }
  },
  {
   "cell_type": "code",
   "execution_count": 0,
   "outputs": [],
   "source": [
    "model = pzmm.ImportModel.import_model(\n",
    "    model_files=\"models/gbr_diabetes\",\n",
    "    model_prefix=\"gbr_diabetes\",\n",
    "    project=\"ONNXDemo\",\n",
    "    force=True\n",
    ")"
   ],
   "metadata": {
    "collapsed": false
   }
  },
  {
   "cell_type": "code",
   "execution_count": 12,
   "outputs": [],
   "source": [
    "score_upload = mr.add_model_content(\n",
    "    model=\"gbr_diabetes\",\n",
    "    file=diabetes_score_code,\n",
    "    name=\"score_gbr_diabetes.py\",\n",
    "    role=\"score\"\n",
    ")"
   ],
   "metadata": {
    "collapsed": false,
    "ExecuteTime": {
     "end_time": "2024-03-25T20:04:10.531980400Z",
     "start_time": "2024-03-25T20:04:09.683721700Z"
    }
   }
  },
  {
   "cell_type": "code",
   "execution_count": 0,
   "outputs": [],
   "source": [
    "model = pzmm.ImportModel.import_model(\n",
    "    model_files=\"models/dtc_cancer\",\n",
    "    model_prefix=\"dtc_cancer\",\n",
    "    project=\"ONNXDemo\",\n",
    "    force=True\n",
    ")"
   ],
   "metadata": {
    "collapsed": false
   }
  },
  {
   "cell_type": "code",
   "execution_count": 13,
   "outputs": [],
   "source": [
    "score_upload = mr.add_model_content(\n",
    "    model=\"dtc_cancer\",\n",
    "    file=cancer_score_code,\n",
    "    name=\"score_dtc_cancer.py\",\n",
    "    role=\"score\"\n",
    ")"
   ],
   "metadata": {
    "collapsed": false,
    "ExecuteTime": {
     "end_time": "2024-03-25T20:04:16.835915300Z",
     "start_time": "2024-03-25T20:04:16.011477200Z"
    }
   }
  }
 ],
 "metadata": {
  "kernelspec": {
   "display_name": "Python 3",
   "language": "python",
   "name": "python3"
  },
  "language_info": {
   "codemirror_mode": {
    "name": "ipython",
    "version": 2
   },
   "file_extension": ".py",
   "mimetype": "text/x-python",
   "name": "python",
   "nbconvert_exporter": "python",
   "pygments_lexer": "ipython2",
   "version": "2.7.6"
  }
 },
 "nbformat": 4,
 "nbformat_minor": 0
}
